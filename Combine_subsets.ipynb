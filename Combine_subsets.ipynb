{
 "cells": [
  {
   "cell_type": "code",
   "execution_count": 4,
   "id": "d0e38d8a-afae-4b05-ab43-d16de3fba1a6",
   "metadata": {},
   "outputs": [
    {
     "name": "stdout",
     "output_type": "stream",
     "text": [
      "['.ipynb_checkpoints', '1', '10', '11', '12', '13', '14', '15', '16', '17', '18', '19', '2', '20', '21', '22', '23', '24', '25', '26', '27', '28', '29', '3', '30', '31', '32', '33', '34', '35', '36', '37', '38', '4', '5', '6', '7', '8', '9', 'Combine_subsets.ipynb', 'exposure_summary.txt', 'Final_Subsets', 'IITB_Subset', 'Pre-survery for MMA Research.csv', 'Subset_code.ipynb', 'Untitled.ipynb']\n"
     ]
    }
   ],
   "source": [
    "import os\n",
    "print(os.listdir())"
   ]
  },
  {
   "cell_type": "code",
   "execution_count": 5,
   "id": "190ec54f-ea74-41ec-a7ab-4c910403d0bc",
   "metadata": {},
   "outputs": [
    {
     "name": "stdout",
     "output_type": "stream",
     "text": [
      "Current working dir: C:\\Users\\sanika patil\\IITB Internship\n"
     ]
    }
   ],
   "source": [
    "import os\n",
    "print(\"Current working dir:\", os.getcwd())"
   ]
  },
  {
   "cell_type": "code",
   "execution_count": 8,
   "id": "c4509c45-5590-4a03-ab1c-27946568d3ee",
   "metadata": {},
   "outputs": [
    {
     "name": "stdout",
     "output_type": "stream",
     "text": [
      "✅ Combined: BlankScreenData.csv ➤ Rows: 20340\n",
      "✅ Combined: EEG.csv ➤ Rows: 1147526\n",
      "✅ Combined: externalEvents.csv ➤ Rows: 32740\n",
      "✅ Combined: EYE.csv ➤ Rows: 503675\n",
      "✅ Combined: GSR.csv ➤ Rows: 534904\n",
      "✅ Combined: IVT.csv ➤ Rows: 503675\n",
      "✅ Combined: NSTLX.csv ➤ Rows: 0\n",
      "✅ Combined: PSY.csv ➤ Rows: 139\n",
      "✅ Combined: TIVA.csv ➤ Rows: 42513\n"
     ]
    }
   ],
   "source": [
    "import os\n",
    "import pandas as pd\n",
    "from collections import defaultdict\n",
    "\n",
    "subset_dir = r\"C:\\Users\\sanika patil\\IITB Internship\\IITB_Subset\"\n",
    "output_dir = \"Final_Subsets\"\n",
    "os.makedirs(output_dir, exist_ok=True)\n",
    "\n",
    "modality_data = defaultdict(list)\n",
    "\n",
    "# Loop over folders 1 to 38\n",
    "for folder in sorted(os.listdir(subset_dir), key=lambda x: int(x) if x.isdigit() else -1):\n",
    "    participant_path = os.path.join(subset_dir, folder)\n",
    "    if not os.path.isdir(participant_path):\n",
    "        continue\n",
    "\n",
    "    for file_name in os.listdir(participant_path):\n",
    "        if not file_name.endswith(\".csv\"):\n",
    "            continue\n",
    "\n",
    "        # file_name is like \"1_EEG.csv\", \"2_EEG.csv\", etc.\n",
    "        try:\n",
    "            # Extract modality name: EEG.csv from 1_EEG.csv\n",
    "            modality = file_name.split(\"_\", 1)[1]  # EEG.csv\n",
    "            file_path = os.path.join(participant_path, file_name)\n",
    "            \n",
    "            df = pd.read_csv(file_path, low_memory=False)\n",
    "            df[\"Participant\"] = folder  # Add who this row belongs to\n",
    "            modality_data[modality].append(df)\n",
    "        except Exception as e:\n",
    "            print(f\"❌ Error reading {file_path}: {e}\")\n",
    "\n",
    "# Save each combined modality\n",
    "for modality, df_list in modality_data.items():\n",
    "    combined_df = pd.concat(df_list, ignore_index=True)\n",
    "    out_path = os.path.join(output_dir, modality)  # Saves as EEG.csv, EYE.csv, etc.\n",
    "    combined_df.to_csv(out_path, index=False)\n",
    "    print(f\"✅ Combined: {modality} ➤ Rows: {combined_df.shape[0]}\")\n"
   ]
  },
  {
   "cell_type": "code",
   "execution_count": null,
   "id": "beb03eda-fb84-4023-b409-0f6f71a5be3c",
   "metadata": {},
   "outputs": [],
   "source": []
  }
 ],
 "metadata": {
  "kernelspec": {
   "display_name": "tfkernel",
   "language": "python",
   "name": "tfkernel"
  },
  "language_info": {
   "codemirror_mode": {
    "name": "ipython",
    "version": 3
   },
   "file_extension": ".py",
   "mimetype": "text/x-python",
   "name": "python",
   "nbconvert_exporter": "python",
   "pygments_lexer": "ipython3",
   "version": "3.12.2"
  }
 },
 "nbformat": 4,
 "nbformat_minor": 5
}
