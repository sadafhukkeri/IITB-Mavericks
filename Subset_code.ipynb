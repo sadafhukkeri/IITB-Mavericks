{
 "cells": [
  {
   "cell_type": "code",
   "execution_count": 10,
   "id": "86ba36c9-647d-4db6-8322-a36251e6cdad",
   "metadata": {},
   "outputs": [
    {
     "name": "stdout",
     "output_type": "stream",
     "text": [
      "Processing C:/Users/sanika patil/IITB Internship\\1\\1_BlankScreenData.csv...\n",
      "✅ Saved 540 rows to IITB_Subset\\1\\1_BlankScreenData.csv\n",
      "Processing C:/Users/sanika patil/IITB Internship\\1\\1_EEG.csv...\n"
     ]
    },
    {
     "name": "stderr",
     "output_type": "stream",
     "text": [
      "C:\\Users\\sanika patil\\AppData\\Local\\Temp\\ipykernel_11828\\1292828810.py:32: DtypeWarning: Columns (2,40) have mixed types. Specify dtype option on import or set low_memory=False.\n",
      "  df = pd.read_csv(file_path)\n"
     ]
    },
    {
     "name": "stdout",
     "output_type": "stream",
     "text": [
      "✅ Saved 20324 rows to IITB_Subset\\1\\1_EEG.csv\n",
      "Processing C:/Users/sanika patil/IITB Internship\\1\\1_externalEvents.csv...\n",
      "✅ Saved 724 rows to IITB_Subset\\1\\1_externalEvents.csv\n",
      "Processing C:/Users/sanika patil/IITB Internship\\1\\1_EYE.csv...\n",
      "✅ Saved 8933 rows to IITB_Subset\\1\\1_EYE.csv\n",
      "Processing C:/Users/sanika patil/IITB Internship\\1\\1_GSR.csv...\n",
      "✅ Saved 9526 rows to IITB_Subset\\1\\1_GSR.csv\n",
      "Processing C:/Users/sanika patil/IITB Internship\\1\\1_IVT.csv...\n",
      "✅ Saved 8933 rows to IITB_Subset\\1\\1_IVT.csv\n",
      "Processing C:/Users/sanika patil/IITB Internship\\1\\1_NSTLX.csv...\n",
      "✅ Saved 0 rows to IITB_Subset\\1\\1_NSTLX.csv\n",
      "Processing C:/Users/sanika patil/IITB Internship\\1\\1_PSY.csv...\n",
      "✅ Saved 4 rows to IITB_Subset\\1\\1_PSY.csv\n",
      "Processing C:/Users/sanika patil/IITB Internship\\1\\1_TIVA.csv...\n",
      "✅ Saved 754 rows to IITB_Subset\\1\\1_TIVA.csv\n",
      "Processing C:/Users/sanika patil/IITB Internship\\2\\2_BlankScreenData.csv...\n",
      "✅ Saved 540 rows to IITB_Subset\\2\\2_BlankScreenData.csv\n",
      "Processing C:/Users/sanika patil/IITB Internship\\2\\2_EEG.csv...\n"
     ]
    },
    {
     "name": "stderr",
     "output_type": "stream",
     "text": [
      "C:\\Users\\sanika patil\\AppData\\Local\\Temp\\ipykernel_11828\\1292828810.py:32: DtypeWarning: Columns (2,40) have mixed types. Specify dtype option on import or set low_memory=False.\n",
      "  df = pd.read_csv(file_path)\n"
     ]
    },
    {
     "name": "stdout",
     "output_type": "stream",
     "text": [
      "✅ Saved 29496 rows to IITB_Subset\\2\\2_EEG.csv\n",
      "Processing C:/Users/sanika patil/IITB Internship\\2\\2_externalEvents.csv...\n",
      "✅ Saved 834 rows to IITB_Subset\\2\\2_externalEvents.csv\n",
      "Processing C:/Users/sanika patil/IITB Internship\\2\\2_EYE.csv...\n",
      "✅ Saved 10687 rows to IITB_Subset\\2\\2_EYE.csv\n",
      "Processing C:/Users/sanika patil/IITB Internship\\2\\2_GSR.csv...\n",
      "✅ Saved 11397 rows to IITB_Subset\\2\\2_GSR.csv\n",
      "Processing C:/Users/sanika patil/IITB Internship\\2\\2_IVT.csv...\n",
      "✅ Saved 10687 rows to IITB_Subset\\2\\2_IVT.csv\n",
      "Processing C:/Users/sanika patil/IITB Internship\\2\\2_NSTLX.csv...\n",
      "✅ Saved 0 rows to IITB_Subset\\2\\2_NSTLX.csv\n",
      "Processing C:/Users/sanika patil/IITB Internship\\2\\2_PSY.csv...\n",
      "✅ Saved 3 rows to IITB_Subset\\2\\2_PSY.csv\n",
      "Processing C:/Users/sanika patil/IITB Internship\\2\\2_TIVA.csv...\n",
      "✅ Saved 902 rows to IITB_Subset\\2\\2_TIVA.csv\n",
      "Processing C:/Users/sanika patil/IITB Internship\\3\\3_BlankScreenData.csv...\n",
      "✅ Saved 540 rows to IITB_Subset\\3\\3_BlankScreenData.csv\n",
      "Processing C:/Users/sanika patil/IITB Internship\\3\\3_EEG.csv...\n"
     ]
    },
    {
     "name": "stderr",
     "output_type": "stream",
     "text": [
      "C:\\Users\\sanika patil\\AppData\\Local\\Temp\\ipykernel_11828\\1292828810.py:32: DtypeWarning: Columns (2) have mixed types. Specify dtype option on import or set low_memory=False.\n",
      "  df = pd.read_csv(file_path)\n"
     ]
    },
    {
     "name": "stdout",
     "output_type": "stream",
     "text": [
      "✅ Saved 36992 rows to IITB_Subset\\3\\3_EEG.csv\n",
      "Processing C:/Users/sanika patil/IITB Internship\\3\\3_externalEvents.csv...\n",
      "✅ Saved 655 rows to IITB_Subset\\3\\3_externalEvents.csv\n",
      "Processing C:/Users/sanika patil/IITB Internship\\3\\3_EYE.csv...\n"
     ]
    },
    {
     "name": "stderr",
     "output_type": "stream",
     "text": [
      "C:\\Users\\sanika patil\\AppData\\Local\\Temp\\ipykernel_11828\\1292828810.py:32: DtypeWarning: Columns (2) have mixed types. Specify dtype option on import or set low_memory=False.\n",
      "  df = pd.read_csv(file_path)\n"
     ]
    },
    {
     "name": "stdout",
     "output_type": "stream",
     "text": [
      "✅ Saved 16441 rows to IITB_Subset\\3\\3_EYE.csv\n",
      "Processing C:/Users/sanika patil/IITB Internship\\3\\3_GSR.csv...\n",
      "✅ Saved 17534 rows to IITB_Subset\\3\\3_GSR.csv\n",
      "Processing C:/Users/sanika patil/IITB Internship\\3\\3_IVT.csv...\n"
     ]
    },
    {
     "name": "stderr",
     "output_type": "stream",
     "text": [
      "C:\\Users\\sanika patil\\AppData\\Local\\Temp\\ipykernel_11828\\1292828810.py:32: DtypeWarning: Columns (2) have mixed types. Specify dtype option on import or set low_memory=False.\n",
      "  df = pd.read_csv(file_path)\n"
     ]
    },
    {
     "name": "stdout",
     "output_type": "stream",
     "text": [
      "✅ Saved 16441 rows to IITB_Subset\\3\\3_IVT.csv\n",
      "Processing C:/Users/sanika patil/IITB Internship\\3\\3_NSTLX.csv...\n",
      "✅ Saved 0 rows to IITB_Subset\\3\\3_NSTLX.csv\n",
      "Processing C:/Users/sanika patil/IITB Internship\\3\\3_PSY.csv...\n",
      "✅ Saved 4 rows to IITB_Subset\\3\\3_PSY.csv\n",
      "Processing C:/Users/sanika patil/IITB Internship\\3\\3_TIVA.csv...\n",
      "✅ Saved 1387 rows to IITB_Subset\\3\\3_TIVA.csv\n",
      "Processing C:/Users/sanika patil/IITB Internship\\4\\4_BlankScreenData.csv...\n",
      "✅ Saved 540 rows to IITB_Subset\\4\\4_BlankScreenData.csv\n",
      "Processing C:/Users/sanika patil/IITB Internship\\4\\4_EEG.csv...\n"
     ]
    },
    {
     "name": "stderr",
     "output_type": "stream",
     "text": [
      "C:\\Users\\sanika patil\\AppData\\Local\\Temp\\ipykernel_11828\\1292828810.py:32: DtypeWarning: Columns (2) have mixed types. Specify dtype option on import or set low_memory=False.\n",
      "  df = pd.read_csv(file_path)\n"
     ]
    },
    {
     "name": "stdout",
     "output_type": "stream",
     "text": [
      "✅ Saved 28664 rows to IITB_Subset\\4\\4_EEG.csv\n",
      "Processing C:/Users/sanika patil/IITB Internship\\4\\4_externalEvents.csv...\n",
      "✅ Saved 609 rows to IITB_Subset\\4\\4_externalEvents.csv\n",
      "Processing C:/Users/sanika patil/IITB Internship\\4\\4_EYE.csv...\n",
      "✅ Saved 11019 rows to IITB_Subset\\4\\4_EYE.csv\n",
      "Processing C:/Users/sanika patil/IITB Internship\\4\\4_GSR.csv...\n",
      "✅ Saved 11752 rows to IITB_Subset\\4\\4_GSR.csv\n",
      "Processing C:/Users/sanika patil/IITB Internship\\4\\4_IVT.csv...\n",
      "✅ Saved 11019 rows to IITB_Subset\\4\\4_IVT.csv\n",
      "Processing C:/Users/sanika patil/IITB Internship\\4\\4_NSTLX.csv...\n",
      "✅ Saved 0 rows to IITB_Subset\\4\\4_NSTLX.csv\n",
      "Processing C:/Users/sanika patil/IITB Internship\\4\\4_PSY.csv...\n",
      "✅ Saved 4 rows to IITB_Subset\\4\\4_PSY.csv\n",
      "Processing C:/Users/sanika patil/IITB Internship\\4\\4_TIVA.csv...\n",
      "✅ Saved 930 rows to IITB_Subset\\4\\4_TIVA.csv\n",
      "Processing C:/Users/sanika patil/IITB Internship\\5\\5_BlankScreenData.csv...\n",
      "✅ Saved 540 rows to IITB_Subset\\5\\5_BlankScreenData.csv\n",
      "Processing C:/Users/sanika patil/IITB Internship\\5\\5_EEG.csv...\n"
     ]
    },
    {
     "name": "stderr",
     "output_type": "stream",
     "text": [
      "C:\\Users\\sanika patil\\AppData\\Local\\Temp\\ipykernel_11828\\1292828810.py:32: DtypeWarning: Columns (2) have mixed types. Specify dtype option on import or set low_memory=False.\n",
      "  df = pd.read_csv(file_path)\n"
     ]
    },
    {
     "name": "stdout",
     "output_type": "stream",
     "text": [
      "✅ Saved 38845 rows to IITB_Subset\\5\\5_EEG.csv\n",
      "Processing C:/Users/sanika patil/IITB Internship\\5\\5_externalEvents.csv...\n",
      "✅ Saved 611 rows to IITB_Subset\\5\\5_externalEvents.csv\n",
      "Processing C:/Users/sanika patil/IITB Internship\\5\\5_EYE.csv...\n",
      "✅ Saved 15298 rows to IITB_Subset\\5\\5_EYE.csv\n",
      "Processing C:/Users/sanika patil/IITB Internship\\5\\5_GSR.csv...\n",
      "✅ Saved 16314 rows to IITB_Subset\\5\\5_GSR.csv\n",
      "Processing C:/Users/sanika patil/IITB Internship\\5\\5_IVT.csv...\n",
      "✅ Saved 15298 rows to IITB_Subset\\5\\5_IVT.csv\n",
      "Processing C:/Users/sanika patil/IITB Internship\\5\\5_NSTLX.csv...\n",
      "✅ Saved 0 rows to IITB_Subset\\5\\5_NSTLX.csv\n",
      "Processing C:/Users/sanika patil/IITB Internship\\5\\5_PSY.csv...\n",
      "✅ Saved 4 rows to IITB_Subset\\5\\5_PSY.csv\n",
      "Processing C:/Users/sanika patil/IITB Internship\\5\\5_TIVA.csv...\n",
      "✅ Saved 1290 rows to IITB_Subset\\5\\5_TIVA.csv\n",
      "Processing C:/Users/sanika patil/IITB Internship\\6\\6_BlankScreenData.csv...\n",
      "✅ Saved 360 rows to IITB_Subset\\6\\6_BlankScreenData.csv\n",
      "Processing C:/Users/sanika patil/IITB Internship\\6\\6_EEG.csv...\n"
     ]
    },
    {
     "name": "stderr",
     "output_type": "stream",
     "text": [
      "C:\\Users\\sanika patil\\AppData\\Local\\Temp\\ipykernel_11828\\1292828810.py:32: DtypeWarning: Columns (2,40) have mixed types. Specify dtype option on import or set low_memory=False.\n",
      "  df = pd.read_csv(file_path)\n"
     ]
    },
    {
     "name": "stdout",
     "output_type": "stream",
     "text": [
      "✅ Saved 32513 rows to IITB_Subset\\6\\6_EEG.csv\n",
      "Processing C:/Users/sanika patil/IITB Internship\\6\\6_externalEvents.csv...\n",
      "✅ Saved 586 rows to IITB_Subset\\6\\6_externalEvents.csv\n",
      "Processing C:/Users/sanika patil/IITB Internship\\6\\6_EYE.csv...\n"
     ]
    },
    {
     "name": "stderr",
     "output_type": "stream",
     "text": [
      "C:\\Users\\sanika patil\\AppData\\Local\\Temp\\ipykernel_11828\\1292828810.py:32: DtypeWarning: Columns (2) have mixed types. Specify dtype option on import or set low_memory=False.\n",
      "  df = pd.read_csv(file_path)\n"
     ]
    },
    {
     "name": "stdout",
     "output_type": "stream",
     "text": [
      "✅ Saved 16303 rows to IITB_Subset\\6\\6_EYE.csv\n",
      "Processing C:/Users/sanika patil/IITB Internship\\6\\6_GSR.csv...\n"
     ]
    },
    {
     "name": "stderr",
     "output_type": "stream",
     "text": [
      "C:\\Users\\sanika patil\\AppData\\Local\\Temp\\ipykernel_11828\\1292828810.py:32: DtypeWarning: Columns (2) have mixed types. Specify dtype option on import or set low_memory=False.\n",
      "  df = pd.read_csv(file_path)\n"
     ]
    },
    {
     "name": "stdout",
     "output_type": "stream",
     "text": [
      "✅ Saved 15248 rows to IITB_Subset\\6\\6_GSR.csv\n",
      "Processing C:/Users/sanika patil/IITB Internship\\6\\6_IVT.csv...\n"
     ]
    },
    {
     "name": "stderr",
     "output_type": "stream",
     "text": [
      "C:\\Users\\sanika patil\\AppData\\Local\\Temp\\ipykernel_11828\\1292828810.py:32: DtypeWarning: Columns (2) have mixed types. Specify dtype option on import or set low_memory=False.\n",
      "  df = pd.read_csv(file_path)\n"
     ]
    },
    {
     "name": "stdout",
     "output_type": "stream",
     "text": [
      "✅ Saved 16303 rows to IITB_Subset\\6\\6_IVT.csv\n",
      "Processing C:/Users/sanika patil/IITB Internship\\6\\6_NSTLX.csv...\n",
      "✅ Saved 0 rows to IITB_Subset\\6\\6_NSTLX.csv\n",
      "Processing C:/Users/sanika patil/IITB Internship\\6\\6_PSY.csv...\n",
      "✅ Saved 2 rows to IITB_Subset\\6\\6_PSY.csv\n",
      "Processing C:/Users/sanika patil/IITB Internship\\6\\6_TIVA.csv...\n",
      "✅ Saved 1393 rows to IITB_Subset\\6\\6_TIVA.csv\n",
      "Processing C:/Users/sanika patil/IITB Internship\\7\\7_BlankScreenData.csv...\n",
      "✅ Saved 540 rows to IITB_Subset\\7\\7_BlankScreenData.csv\n",
      "Processing C:/Users/sanika patil/IITB Internship\\7\\7_EEG.csv...\n"
     ]
    },
    {
     "name": "stderr",
     "output_type": "stream",
     "text": [
      "C:\\Users\\sanika patil\\AppData\\Local\\Temp\\ipykernel_11828\\1292828810.py:32: DtypeWarning: Columns (2) have mixed types. Specify dtype option on import or set low_memory=False.\n",
      "  df = pd.read_csv(file_path)\n"
     ]
    },
    {
     "name": "stdout",
     "output_type": "stream",
     "text": [
      "✅ Saved 30920 rows to IITB_Subset\\7\\7_EEG.csv\n",
      "Processing C:/Users/sanika patil/IITB Internship\\7\\7_externalEvents.csv...\n",
      "✅ Saved 854 rows to IITB_Subset\\7\\7_externalEvents.csv\n",
      "Processing C:/Users/sanika patil/IITB Internship\\7\\7_EYE.csv...\n",
      "✅ Saved 13031 rows to IITB_Subset\\7\\7_EYE.csv\n",
      "Processing C:/Users/sanika patil/IITB Internship\\7\\7_GSR.csv...\n",
      "✅ Saved 13898 rows to IITB_Subset\\7\\7_GSR.csv\n",
      "Processing C:/Users/sanika patil/IITB Internship\\7\\7_IVT.csv...\n",
      "✅ Saved 13031 rows to IITB_Subset\\7\\7_IVT.csv\n",
      "Processing C:/Users/sanika patil/IITB Internship\\7\\7_NSTLX.csv...\n",
      "✅ Saved 0 rows to IITB_Subset\\7\\7_NSTLX.csv\n",
      "Processing C:/Users/sanika patil/IITB Internship\\7\\7_PSY.csv...\n",
      "✅ Saved 4 rows to IITB_Subset\\7\\7_PSY.csv\n",
      "Processing C:/Users/sanika patil/IITB Internship\\7\\7_TIVA.csv...\n",
      "✅ Saved 1100 rows to IITB_Subset\\7\\7_TIVA.csv\n",
      "Processing C:/Users/sanika patil/IITB Internship\\8\\8_BlankScreenData.csv...\n",
      "✅ Saved 540 rows to IITB_Subset\\8\\8_BlankScreenData.csv\n",
      "Processing C:/Users/sanika patil/IITB Internship\\8\\8_EEG.csv...\n"
     ]
    },
    {
     "name": "stderr",
     "output_type": "stream",
     "text": [
      "C:\\Users\\sanika patil\\AppData\\Local\\Temp\\ipykernel_11828\\1292828810.py:32: DtypeWarning: Columns (2) have mixed types. Specify dtype option on import or set low_memory=False.\n",
      "  df = pd.read_csv(file_path)\n"
     ]
    },
    {
     "name": "stdout",
     "output_type": "stream",
     "text": [
      "✅ Saved 17332 rows to IITB_Subset\\8\\8_EEG.csv\n",
      "Processing C:/Users/sanika patil/IITB Internship\\8\\8_externalEvents.csv...\n",
      "✅ Saved 523 rows to IITB_Subset\\8\\8_externalEvents.csv\n",
      "Processing C:/Users/sanika patil/IITB Internship\\8\\8_EYE.csv...\n",
      "✅ Saved 7872 rows to IITB_Subset\\8\\8_EYE.csv\n",
      "Processing C:/Users/sanika patil/IITB Internship\\8\\8_GSR.csv...\n",
      "✅ Saved 8292 rows to IITB_Subset\\8\\8_GSR.csv\n",
      "Processing C:/Users/sanika patil/IITB Internship\\8\\8_IVT.csv...\n",
      "✅ Saved 7872 rows to IITB_Subset\\8\\8_IVT.csv\n",
      "Processing C:/Users/sanika patil/IITB Internship\\8\\8_NSTLX.csv...\n",
      "✅ Saved 0 rows to IITB_Subset\\8\\8_NSTLX.csv\n",
      "Processing C:/Users/sanika patil/IITB Internship\\8\\8_PSY.csv...\n",
      "✅ Saved 4 rows to IITB_Subset\\8\\8_PSY.csv\n",
      "Processing C:/Users/sanika patil/IITB Internship\\8\\8_TIVA.csv...\n",
      "✅ Saved 664 rows to IITB_Subset\\8\\8_TIVA.csv\n",
      "Processing C:/Users/sanika patil/IITB Internship\\9\\9_BlankScreenData.csv...\n",
      "✅ Saved 540 rows to IITB_Subset\\9\\9_BlankScreenData.csv\n",
      "Processing C:/Users/sanika patil/IITB Internship\\9\\9_EEG.csv...\n"
     ]
    },
    {
     "name": "stderr",
     "output_type": "stream",
     "text": [
      "C:\\Users\\sanika patil\\AppData\\Local\\Temp\\ipykernel_11828\\1292828810.py:32: DtypeWarning: Columns (2) have mixed types. Specify dtype option on import or set low_memory=False.\n",
      "  df = pd.read_csv(file_path)\n"
     ]
    },
    {
     "name": "stdout",
     "output_type": "stream",
     "text": [
      "✅ Saved 33711 rows to IITB_Subset\\9\\9_EEG.csv\n",
      "Processing C:/Users/sanika patil/IITB Internship\\9\\9_externalEvents.csv...\n",
      "✅ Saved 463 rows to IITB_Subset\\9\\9_externalEvents.csv\n",
      "Processing C:/Users/sanika patil/IITB Internship\\9\\9_EYE.csv...\n"
     ]
    },
    {
     "name": "stderr",
     "output_type": "stream",
     "text": [
      "C:\\Users\\sanika patil\\AppData\\Local\\Temp\\ipykernel_11828\\1292828810.py:32: DtypeWarning: Columns (2) have mixed types. Specify dtype option on import or set low_memory=False.\n",
      "  df = pd.read_csv(file_path)\n"
     ]
    },
    {
     "name": "stdout",
     "output_type": "stream",
     "text": [
      "✅ Saved 13827 rows to IITB_Subset\\9\\9_EYE.csv\n",
      "Processing C:/Users/sanika patil/IITB Internship\\9\\9_GSR.csv...\n",
      "✅ Saved 14747 rows to IITB_Subset\\9\\9_GSR.csv\n",
      "Processing C:/Users/sanika patil/IITB Internship\\9\\9_IVT.csv...\n"
     ]
    },
    {
     "name": "stderr",
     "output_type": "stream",
     "text": [
      "C:\\Users\\sanika patil\\AppData\\Local\\Temp\\ipykernel_11828\\1292828810.py:32: DtypeWarning: Columns (2) have mixed types. Specify dtype option on import or set low_memory=False.\n",
      "  df = pd.read_csv(file_path)\n"
     ]
    },
    {
     "name": "stdout",
     "output_type": "stream",
     "text": [
      "✅ Saved 13827 rows to IITB_Subset\\9\\9_IVT.csv\n",
      "Processing C:/Users/sanika patil/IITB Internship\\9\\9_NSTLX.csv...\n",
      "✅ Saved 0 rows to IITB_Subset\\9\\9_NSTLX.csv\n",
      "Processing C:/Users/sanika patil/IITB Internship\\9\\9_PSY.csv...\n",
      "✅ Saved 4 rows to IITB_Subset\\9\\9_PSY.csv\n",
      "Processing C:/Users/sanika patil/IITB Internship\\9\\9_TIVA.csv...\n",
      "✅ Saved 1167 rows to IITB_Subset\\9\\9_TIVA.csv\n",
      "Processing C:/Users/sanika patil/IITB Internship\\10\\10_BlankScreenData.csv...\n",
      "✅ Saved 540 rows to IITB_Subset\\10\\10_BlankScreenData.csv\n",
      "Processing C:/Users/sanika patil/IITB Internship\\10\\10_EEG.csv...\n",
      "✅ Saved 388 rows to IITB_Subset\\10\\10_EEG.csv\n",
      "Processing C:/Users/sanika patil/IITB Internship\\10\\10_externalEvents.csv...\n",
      "✅ Saved 865 rows to IITB_Subset\\10\\10_externalEvents.csv\n",
      "Processing C:/Users/sanika patil/IITB Internship\\10\\10_EYE.csv...\n",
      "✅ Saved 12266 rows to IITB_Subset\\10\\10_EYE.csv\n",
      "Processing C:/Users/sanika patil/IITB Internship\\10\\10_GSR.csv...\n",
      "✅ Saved 13082 rows to IITB_Subset\\10\\10_GSR.csv\n",
      "Processing C:/Users/sanika patil/IITB Internship\\10\\10_IVT.csv...\n",
      "✅ Saved 12266 rows to IITB_Subset\\10\\10_IVT.csv\n",
      "Processing C:/Users/sanika patil/IITB Internship\\10\\10_NSTLX.csv...\n",
      "✅ Saved 0 rows to IITB_Subset\\10\\10_NSTLX.csv\n",
      "Processing C:/Users/sanika patil/IITB Internship\\10\\10_PSY.csv...\n",
      "✅ Saved 4 rows to IITB_Subset\\10\\10_PSY.csv\n",
      "Processing C:/Users/sanika patil/IITB Internship\\10\\10_TIVA.csv...\n",
      "✅ Saved 1035 rows to IITB_Subset\\10\\10_TIVA.csv\n",
      "Processing C:/Users/sanika patil/IITB Internship\\11\\11_BlankScreenData.csv...\n",
      "✅ Saved 540 rows to IITB_Subset\\11\\11_BlankScreenData.csv\n",
      "Processing C:/Users/sanika patil/IITB Internship\\11\\11_EEG.csv...\n"
     ]
    },
    {
     "name": "stderr",
     "output_type": "stream",
     "text": [
      "C:\\Users\\sanika patil\\AppData\\Local\\Temp\\ipykernel_11828\\1292828810.py:32: DtypeWarning: Columns (2) have mixed types. Specify dtype option on import or set low_memory=False.\n",
      "  df = pd.read_csv(file_path)\n"
     ]
    },
    {
     "name": "stdout",
     "output_type": "stream",
     "text": [
      "✅ Saved 34494 rows to IITB_Subset\\11\\11_EEG.csv\n",
      "Processing C:/Users/sanika patil/IITB Internship\\11\\11_externalEvents.csv...\n",
      "✅ Saved 545 rows to IITB_Subset\\11\\11_externalEvents.csv\n",
      "Processing C:/Users/sanika patil/IITB Internship\\11\\11_EYE.csv...\n",
      "✅ Saved 13766 rows to IITB_Subset\\11\\11_EYE.csv\n",
      "Processing C:/Users/sanika patil/IITB Internship\\11\\11_GSR.csv...\n",
      "✅ Saved 14682 rows to IITB_Subset\\11\\11_GSR.csv\n",
      "Processing C:/Users/sanika patil/IITB Internship\\11\\11_IVT.csv...\n",
      "✅ Saved 13766 rows to IITB_Subset\\11\\11_IVT.csv\n",
      "Processing C:/Users/sanika patil/IITB Internship\\11\\11_NSTLX.csv...\n",
      "✅ Saved 0 rows to IITB_Subset\\11\\11_NSTLX.csv\n",
      "Processing C:/Users/sanika patil/IITB Internship\\11\\11_PSY.csv...\n",
      "✅ Saved 4 rows to IITB_Subset\\11\\11_PSY.csv\n",
      "Processing C:/Users/sanika patil/IITB Internship\\11\\11_TIVA.csv...\n",
      "✅ Saved 1162 rows to IITB_Subset\\11\\11_TIVA.csv\n",
      "Processing C:/Users/sanika patil/IITB Internship\\12\\12_BlankScreenData.csv...\n",
      "✅ Saved 540 rows to IITB_Subset\\12\\12_BlankScreenData.csv\n",
      "Processing C:/Users/sanika patil/IITB Internship\\12\\12_EEG.csv...\n"
     ]
    },
    {
     "name": "stderr",
     "output_type": "stream",
     "text": [
      "C:\\Users\\sanika patil\\AppData\\Local\\Temp\\ipykernel_11828\\1292828810.py:32: DtypeWarning: Columns (2) have mixed types. Specify dtype option on import or set low_memory=False.\n",
      "  df = pd.read_csv(file_path)\n"
     ]
    },
    {
     "name": "stdout",
     "output_type": "stream",
     "text": [
      "✅ Saved 23605 rows to IITB_Subset\\12\\12_EEG.csv\n",
      "Processing C:/Users/sanika patil/IITB Internship\\12\\12_externalEvents.csv...\n",
      "✅ Saved 1905 rows to IITB_Subset\\12\\12_externalEvents.csv\n",
      "Processing C:/Users/sanika patil/IITB Internship\\12\\12_EYE.csv...\n"
     ]
    },
    {
     "name": "stderr",
     "output_type": "stream",
     "text": [
      "C:\\Users\\sanika patil\\AppData\\Local\\Temp\\ipykernel_11828\\1292828810.py:32: DtypeWarning: Columns (2) have mixed types. Specify dtype option on import or set low_memory=False.\n",
      "  df = pd.read_csv(file_path)\n"
     ]
    },
    {
     "name": "stdout",
     "output_type": "stream",
     "text": [
      "✅ Saved 11190 rows to IITB_Subset\\12\\12_EYE.csv\n",
      "Processing C:/Users/sanika patil/IITB Internship\\12\\12_GSR.csv...\n",
      "✅ Saved 11930 rows to IITB_Subset\\12\\12_GSR.csv\n",
      "Processing C:/Users/sanika patil/IITB Internship\\12\\12_IVT.csv...\n"
     ]
    },
    {
     "name": "stderr",
     "output_type": "stream",
     "text": [
      "C:\\Users\\sanika patil\\AppData\\Local\\Temp\\ipykernel_11828\\1292828810.py:32: DtypeWarning: Columns (2) have mixed types. Specify dtype option on import or set low_memory=False.\n",
      "  df = pd.read_csv(file_path)\n"
     ]
    },
    {
     "name": "stdout",
     "output_type": "stream",
     "text": [
      "✅ Saved 11190 rows to IITB_Subset\\12\\12_IVT.csv\n",
      "Processing C:/Users/sanika patil/IITB Internship\\12\\12_NSTLX.csv...\n",
      "✅ Saved 0 rows to IITB_Subset\\12\\12_NSTLX.csv\n",
      "Processing C:/Users/sanika patil/IITB Internship\\12\\12_PSY.csv...\n",
      "✅ Saved 4 rows to IITB_Subset\\12\\12_PSY.csv\n",
      "Processing C:/Users/sanika patil/IITB Internship\\12\\12_TIVA.csv...\n",
      "✅ Saved 944 rows to IITB_Subset\\12\\12_TIVA.csv\n",
      "Processing C:/Users/sanika patil/IITB Internship\\13\\13_BlankScreenData.csv...\n",
      "✅ Saved 540 rows to IITB_Subset\\13\\13_BlankScreenData.csv\n",
      "Processing C:/Users/sanika patil/IITB Internship\\13\\13_EEG.csv...\n"
     ]
    },
    {
     "name": "stderr",
     "output_type": "stream",
     "text": [
      "C:\\Users\\sanika patil\\AppData\\Local\\Temp\\ipykernel_11828\\1292828810.py:32: DtypeWarning: Columns (2) have mixed types. Specify dtype option on import or set low_memory=False.\n",
      "  df = pd.read_csv(file_path)\n"
     ]
    },
    {
     "name": "stdout",
     "output_type": "stream",
     "text": [
      "✅ Saved 35899 rows to IITB_Subset\\13\\13_EEG.csv\n",
      "Processing C:/Users/sanika patil/IITB Internship\\13\\13_externalEvents.csv...\n",
      "✅ Saved 1034 rows to IITB_Subset\\13\\13_externalEvents.csv\n",
      "Processing C:/Users/sanika patil/IITB Internship\\13\\13_EYE.csv...\n",
      "✅ Saved 14531 rows to IITB_Subset\\13\\13_EYE.csv\n",
      "Processing C:/Users/sanika patil/IITB Internship\\13\\13_GSR.csv...\n",
      "✅ Saved 15499 rows to IITB_Subset\\13\\13_GSR.csv\n",
      "Processing C:/Users/sanika patil/IITB Internship\\13\\13_IVT.csv...\n",
      "✅ Saved 14531 rows to IITB_Subset\\13\\13_IVT.csv\n",
      "Processing C:/Users/sanika patil/IITB Internship\\13\\13_NSTLX.csv...\n",
      "✅ Saved 0 rows to IITB_Subset\\13\\13_NSTLX.csv\n",
      "Processing C:/Users/sanika patil/IITB Internship\\13\\13_PSY.csv...\n",
      "✅ Saved 4 rows to IITB_Subset\\13\\13_PSY.csv\n",
      "Processing C:/Users/sanika patil/IITB Internship\\13\\13_TIVA.csv...\n",
      "✅ Saved 1226 rows to IITB_Subset\\13\\13_TIVA.csv\n",
      "Processing C:/Users/sanika patil/IITB Internship\\14\\14_BlankScreenData.csv...\n",
      "✅ Saved 540 rows to IITB_Subset\\14\\14_BlankScreenData.csv\n",
      "Processing C:/Users/sanika patil/IITB Internship\\14\\14_EEG.csv...\n"
     ]
    },
    {
     "name": "stderr",
     "output_type": "stream",
     "text": [
      "C:\\Users\\sanika patil\\AppData\\Local\\Temp\\ipykernel_11828\\1292828810.py:32: DtypeWarning: Columns (2,40) have mixed types. Specify dtype option on import or set low_memory=False.\n",
      "  df = pd.read_csv(file_path)\n"
     ]
    },
    {
     "name": "stdout",
     "output_type": "stream",
     "text": [
      "✅ Saved 34858 rows to IITB_Subset\\14\\14_EEG.csv\n",
      "Processing C:/Users/sanika patil/IITB Internship\\14\\14_externalEvents.csv...\n",
      "✅ Saved 704 rows to IITB_Subset\\14\\14_externalEvents.csv\n",
      "Processing C:/Users/sanika patil/IITB Internship\\14\\14_EYE.csv...\n"
     ]
    },
    {
     "name": "stderr",
     "output_type": "stream",
     "text": [
      "C:\\Users\\sanika patil\\AppData\\Local\\Temp\\ipykernel_11828\\1292828810.py:32: DtypeWarning: Columns (2) have mixed types. Specify dtype option on import or set low_memory=False.\n",
      "  df = pd.read_csv(file_path)\n"
     ]
    },
    {
     "name": "stdout",
     "output_type": "stream",
     "text": [
      "✅ Saved 13992 rows to IITB_Subset\\14\\14_EYE.csv\n",
      "Processing C:/Users/sanika patil/IITB Internship\\14\\14_GSR.csv...\n"
     ]
    },
    {
     "name": "stderr",
     "output_type": "stream",
     "text": [
      "C:\\Users\\sanika patil\\AppData\\Local\\Temp\\ipykernel_11828\\1292828810.py:32: DtypeWarning: Columns (2) have mixed types. Specify dtype option on import or set low_memory=False.\n",
      "  df = pd.read_csv(file_path)\n"
     ]
    },
    {
     "name": "stdout",
     "output_type": "stream",
     "text": [
      "✅ Saved 14922 rows to IITB_Subset\\14\\14_GSR.csv\n",
      "Processing C:/Users/sanika patil/IITB Internship\\14\\14_IVT.csv...\n"
     ]
    },
    {
     "name": "stderr",
     "output_type": "stream",
     "text": [
      "C:\\Users\\sanika patil\\AppData\\Local\\Temp\\ipykernel_11828\\1292828810.py:32: DtypeWarning: Columns (2) have mixed types. Specify dtype option on import or set low_memory=False.\n",
      "  df = pd.read_csv(file_path)\n"
     ]
    },
    {
     "name": "stdout",
     "output_type": "stream",
     "text": [
      "✅ Saved 13992 rows to IITB_Subset\\14\\14_IVT.csv\n",
      "Processing C:/Users/sanika patil/IITB Internship\\14\\14_NSTLX.csv...\n",
      "✅ Saved 0 rows to IITB_Subset\\14\\14_NSTLX.csv\n",
      "Processing C:/Users/sanika patil/IITB Internship\\14\\14_PSY.csv...\n",
      "✅ Saved 3 rows to IITB_Subset\\14\\14_PSY.csv\n",
      "Processing C:/Users/sanika patil/IITB Internship\\14\\14_TIVA.csv...\n",
      "✅ Saved 1180 rows to IITB_Subset\\14\\14_TIVA.csv\n",
      "Processing C:/Users/sanika patil/IITB Internship\\15\\15_BlankScreenData.csv...\n",
      "✅ Saved 540 rows to IITB_Subset\\15\\15_BlankScreenData.csv\n",
      "Processing C:/Users/sanika patil/IITB Internship\\15\\15_EEG.csv...\n"
     ]
    },
    {
     "name": "stderr",
     "output_type": "stream",
     "text": [
      "C:\\Users\\sanika patil\\AppData\\Local\\Temp\\ipykernel_11828\\1292828810.py:32: DtypeWarning: Columns (2) have mixed types. Specify dtype option on import or set low_memory=False.\n",
      "  df = pd.read_csv(file_path)\n"
     ]
    },
    {
     "name": "stdout",
     "output_type": "stream",
     "text": [
      "✅ Saved 19888 rows to IITB_Subset\\15\\15_EEG.csv\n",
      "Processing C:/Users/sanika patil/IITB Internship\\15\\15_externalEvents.csv...\n",
      "✅ Saved 678 rows to IITB_Subset\\15\\15_externalEvents.csv\n",
      "Processing C:/Users/sanika patil/IITB Internship\\15\\15_EYE.csv...\n",
      "✅ Saved 9360 rows to IITB_Subset\\15\\15_EYE.csv\n",
      "Processing C:/Users/sanika patil/IITB Internship\\15\\15_GSR.csv...\n",
      "✅ Saved 9982 rows to IITB_Subset\\15\\15_GSR.csv\n",
      "Processing C:/Users/sanika patil/IITB Internship\\15\\15_IVT.csv...\n",
      "✅ Saved 9360 rows to IITB_Subset\\15\\15_IVT.csv\n",
      "Processing C:/Users/sanika patil/IITB Internship\\15\\15_NSTLX.csv...\n",
      "✅ Saved 0 rows to IITB_Subset\\15\\15_NSTLX.csv\n",
      "Processing C:/Users/sanika patil/IITB Internship\\15\\15_PSY.csv...\n",
      "✅ Saved 4 rows to IITB_Subset\\15\\15_PSY.csv\n",
      "Processing C:/Users/sanika patil/IITB Internship\\15\\15_TIVA.csv...\n",
      "✅ Saved 790 rows to IITB_Subset\\15\\15_TIVA.csv\n",
      "Processing C:/Users/sanika patil/IITB Internship\\16\\16_BlankScreenData.csv...\n",
      "✅ Saved 540 rows to IITB_Subset\\16\\16_BlankScreenData.csv\n",
      "Processing C:/Users/sanika patil/IITB Internship\\16\\16_EEG.csv...\n"
     ]
    },
    {
     "name": "stderr",
     "output_type": "stream",
     "text": [
      "C:\\Users\\sanika patil\\AppData\\Local\\Temp\\ipykernel_11828\\1292828810.py:32: DtypeWarning: Columns (2) have mixed types. Specify dtype option on import or set low_memory=False.\n",
      "  df = pd.read_csv(file_path)\n"
     ]
    },
    {
     "name": "stdout",
     "output_type": "stream",
     "text": [
      "✅ Saved 22450 rows to IITB_Subset\\16\\16_EEG.csv\n",
      "Processing C:/Users/sanika patil/IITB Internship\\16\\16_externalEvents.csv...\n",
      "✅ Saved 550 rows to IITB_Subset\\16\\16_externalEvents.csv\n",
      "Processing C:/Users/sanika patil/IITB Internship\\16\\16_EYE.csv...\n",
      "✅ Saved 9443 rows to IITB_Subset\\16\\16_EYE.csv\n",
      "Processing C:/Users/sanika patil/IITB Internship\\16\\16_GSR.csv...\n",
      "✅ Saved 10072 rows to IITB_Subset\\16\\16_GSR.csv\n",
      "Processing C:/Users/sanika patil/IITB Internship\\16\\16_IVT.csv...\n",
      "✅ Saved 9443 rows to IITB_Subset\\16\\16_IVT.csv\n",
      "Processing C:/Users/sanika patil/IITB Internship\\16\\16_NSTLX.csv...\n",
      "✅ Saved 0 rows to IITB_Subset\\16\\16_NSTLX.csv\n",
      "Processing C:/Users/sanika patil/IITB Internship\\16\\16_PSY.csv...\n",
      "✅ Saved 4 rows to IITB_Subset\\16\\16_PSY.csv\n",
      "Processing C:/Users/sanika patil/IITB Internship\\16\\16_TIVA.csv...\n",
      "✅ Saved 797 rows to IITB_Subset\\16\\16_TIVA.csv\n",
      "Processing C:/Users/sanika patil/IITB Internship\\17\\17_BlankScreenData.csv...\n",
      "✅ Saved 540 rows to IITB_Subset\\17\\17_BlankScreenData.csv\n",
      "Processing C:/Users/sanika patil/IITB Internship\\17\\17_EEG.csv...\n"
     ]
    },
    {
     "name": "stderr",
     "output_type": "stream",
     "text": [
      "C:\\Users\\sanika patil\\AppData\\Local\\Temp\\ipykernel_11828\\1292828810.py:32: DtypeWarning: Columns (2) have mixed types. Specify dtype option on import or set low_memory=False.\n",
      "  df = pd.read_csv(file_path)\n"
     ]
    },
    {
     "name": "stdout",
     "output_type": "stream",
     "text": [
      "✅ Saved 29568 rows to IITB_Subset\\17\\17_EEG.csv\n",
      "Processing C:/Users/sanika patil/IITB Internship\\17\\17_externalEvents.csv...\n",
      "✅ Saved 657 rows to IITB_Subset\\17\\17_externalEvents.csv\n",
      "Processing C:/Users/sanika patil/IITB Internship\\17\\17_EYE.csv...\n",
      "✅ Saved 11368 rows to IITB_Subset\\17\\17_EYE.csv\n",
      "Processing C:/Users/sanika patil/IITB Internship\\17\\17_GSR.csv...\n",
      "✅ Saved 12125 rows to IITB_Subset\\17\\17_GSR.csv\n",
      "Processing C:/Users/sanika patil/IITB Internship\\17\\17_IVT.csv...\n",
      "✅ Saved 11368 rows to IITB_Subset\\17\\17_IVT.csv\n",
      "Processing C:/Users/sanika patil/IITB Internship\\17\\17_NSTLX.csv...\n",
      "✅ Saved 0 rows to IITB_Subset\\17\\17_NSTLX.csv\n",
      "Processing C:/Users/sanika patil/IITB Internship\\17\\17_PSY.csv...\n",
      "✅ Saved 4 rows to IITB_Subset\\17\\17_PSY.csv\n",
      "Processing C:/Users/sanika patil/IITB Internship\\17\\17_TIVA.csv...\n",
      "✅ Saved 959 rows to IITB_Subset\\17\\17_TIVA.csv\n",
      "Processing C:/Users/sanika patil/IITB Internship\\18\\18_BlankScreenData.csv...\n",
      "✅ Saved 540 rows to IITB_Subset\\18\\18_BlankScreenData.csv\n",
      "Processing C:/Users/sanika patil/IITB Internship\\18\\18_EEG.csv...\n"
     ]
    },
    {
     "name": "stderr",
     "output_type": "stream",
     "text": [
      "C:\\Users\\sanika patil\\AppData\\Local\\Temp\\ipykernel_11828\\1292828810.py:32: DtypeWarning: Columns (2) have mixed types. Specify dtype option on import or set low_memory=False.\n",
      "  df = pd.read_csv(file_path)\n"
     ]
    },
    {
     "name": "stdout",
     "output_type": "stream",
     "text": [
      "✅ Saved 35981 rows to IITB_Subset\\18\\18_EEG.csv\n",
      "Processing C:/Users/sanika patil/IITB Internship\\18\\18_externalEvents.csv...\n",
      "✅ Saved 709 rows to IITB_Subset\\18\\18_externalEvents.csv\n",
      "Processing C:/Users/sanika patil/IITB Internship\\18\\18_EYE.csv...\n",
      "✅ Saved 14511 rows to IITB_Subset\\18\\18_EYE.csv\n",
      "Processing C:/Users/sanika patil/IITB Internship\\18\\18_GSR.csv...\n",
      "✅ Saved 15466 rows to IITB_Subset\\18\\18_GSR.csv\n",
      "Processing C:/Users/sanika patil/IITB Internship\\18\\18_IVT.csv...\n",
      "✅ Saved 14511 rows to IITB_Subset\\18\\18_IVT.csv\n",
      "Processing C:/Users/sanika patil/IITB Internship\\18\\18_NSTLX.csv...\n",
      "✅ Saved 0 rows to IITB_Subset\\18\\18_NSTLX.csv\n",
      "Processing C:/Users/sanika patil/IITB Internship\\18\\18_PSY.csv...\n",
      "✅ Saved 4 rows to IITB_Subset\\18\\18_PSY.csv\n",
      "Processing C:/Users/sanika patil/IITB Internship\\18\\18_TIVA.csv...\n",
      "✅ Saved 1224 rows to IITB_Subset\\18\\18_TIVA.csv\n",
      "Processing C:/Users/sanika patil/IITB Internship\\19\\19_BlankScreenData.csv...\n",
      "✅ Saved 540 rows to IITB_Subset\\19\\19_BlankScreenData.csv\n",
      "Processing C:/Users/sanika patil/IITB Internship\\19\\19_EEG.csv...\n"
     ]
    },
    {
     "name": "stderr",
     "output_type": "stream",
     "text": [
      "C:\\Users\\sanika patil\\AppData\\Local\\Temp\\ipykernel_11828\\1292828810.py:32: DtypeWarning: Columns (2) have mixed types. Specify dtype option on import or set low_memory=False.\n",
      "  df = pd.read_csv(file_path)\n"
     ]
    },
    {
     "name": "stdout",
     "output_type": "stream",
     "text": [
      "✅ Saved 38863 rows to IITB_Subset\\19\\19_EEG.csv\n",
      "Processing C:/Users/sanika patil/IITB Internship\\19\\19_externalEvents.csv...\n",
      "✅ Saved 621 rows to IITB_Subset\\19\\19_externalEvents.csv\n",
      "Processing C:/Users/sanika patil/IITB Internship\\19\\19_EYE.csv...\n",
      "✅ Saved 15217 rows to IITB_Subset\\19\\19_EYE.csv\n",
      "Processing C:/Users/sanika patil/IITB Internship\\19\\19_GSR.csv...\n",
      "✅ Saved 16229 rows to IITB_Subset\\19\\19_GSR.csv\n",
      "Processing C:/Users/sanika patil/IITB Internship\\19\\19_IVT.csv...\n",
      "✅ Saved 15217 rows to IITB_Subset\\19\\19_IVT.csv\n",
      "Processing C:/Users/sanika patil/IITB Internship\\19\\19_NSTLX.csv...\n",
      "✅ Saved 0 rows to IITB_Subset\\19\\19_NSTLX.csv\n",
      "Processing C:/Users/sanika patil/IITB Internship\\19\\19_PSY.csv...\n",
      "✅ Saved 3 rows to IITB_Subset\\19\\19_PSY.csv\n",
      "Processing C:/Users/sanika patil/IITB Internship\\19\\19_TIVA.csv...\n",
      "✅ Saved 1284 rows to IITB_Subset\\19\\19_TIVA.csv\n",
      "Processing C:/Users/sanika patil/IITB Internship\\20\\20_BlankScreenData.csv...\n",
      "✅ Saved 540 rows to IITB_Subset\\20\\20_BlankScreenData.csv\n",
      "Processing C:/Users/sanika patil/IITB Internship\\20\\20_EEG.csv...\n"
     ]
    },
    {
     "name": "stderr",
     "output_type": "stream",
     "text": [
      "C:\\Users\\sanika patil\\AppData\\Local\\Temp\\ipykernel_11828\\1292828810.py:32: DtypeWarning: Columns (2,40) have mixed types. Specify dtype option on import or set low_memory=False.\n",
      "  df = pd.read_csv(file_path)\n"
     ]
    },
    {
     "name": "stdout",
     "output_type": "stream",
     "text": [
      "✅ Saved 20132 rows to IITB_Subset\\20\\20_EEG.csv\n",
      "Processing C:/Users/sanika patil/IITB Internship\\20\\20_externalEvents.csv...\n",
      "✅ Saved 603 rows to IITB_Subset\\20\\20_externalEvents.csv\n",
      "Processing C:/Users/sanika patil/IITB Internship\\20\\20_EYE.csv...\n",
      "✅ Saved 7340 rows to IITB_Subset\\20\\20_EYE.csv\n",
      "Processing C:/Users/sanika patil/IITB Internship\\20\\20_GSR.csv...\n",
      "✅ Saved 7828 rows to IITB_Subset\\20\\20_GSR.csv\n",
      "Processing C:/Users/sanika patil/IITB Internship\\20\\20_IVT.csv...\n",
      "✅ Saved 7340 rows to IITB_Subset\\20\\20_IVT.csv\n",
      "Processing C:/Users/sanika patil/IITB Internship\\20\\20_NSTLX.csv...\n",
      "✅ Saved 0 rows to IITB_Subset\\20\\20_NSTLX.csv\n",
      "Processing C:/Users/sanika patil/IITB Internship\\20\\20_PSY.csv...\n",
      "✅ Saved 4 rows to IITB_Subset\\20\\20_PSY.csv\n",
      "Processing C:/Users/sanika patil/IITB Internship\\20\\20_TIVA.csv...\n",
      "✅ Saved 620 rows to IITB_Subset\\20\\20_TIVA.csv\n",
      "Processing C:/Users/sanika patil/IITB Internship\\21\\21_BlankScreenData.csv...\n",
      "✅ Saved 540 rows to IITB_Subset\\21\\21_BlankScreenData.csv\n",
      "Processing C:/Users/sanika patil/IITB Internship\\21\\21_EEG.csv...\n"
     ]
    },
    {
     "name": "stderr",
     "output_type": "stream",
     "text": [
      "C:\\Users\\sanika patil\\AppData\\Local\\Temp\\ipykernel_11828\\1292828810.py:32: DtypeWarning: Columns (2) have mixed types. Specify dtype option on import or set low_memory=False.\n",
      "  df = pd.read_csv(file_path)\n"
     ]
    },
    {
     "name": "stdout",
     "output_type": "stream",
     "text": [
      "✅ Saved 31058 rows to IITB_Subset\\21\\21_EEG.csv\n",
      "Processing C:/Users/sanika patil/IITB Internship\\21\\21_externalEvents.csv...\n",
      "✅ Saved 756 rows to IITB_Subset\\21\\21_externalEvents.csv\n",
      "Processing C:/Users/sanika patil/IITB Internship\\21\\21_EYE.csv...\n"
     ]
    },
    {
     "name": "stderr",
     "output_type": "stream",
     "text": [
      "C:\\Users\\sanika patil\\AppData\\Local\\Temp\\ipykernel_11828\\1292828810.py:32: DtypeWarning: Columns (2) have mixed types. Specify dtype option on import or set low_memory=False.\n",
      "  df = pd.read_csv(file_path)\n"
     ]
    },
    {
     "name": "stdout",
     "output_type": "stream",
     "text": [
      "✅ Saved 17719 rows to IITB_Subset\\21\\21_EYE.csv\n",
      "Processing C:/Users/sanika patil/IITB Internship\\21\\21_GSR.csv...\n",
      "✅ Saved 18897 rows to IITB_Subset\\21\\21_GSR.csv\n",
      "Processing C:/Users/sanika patil/IITB Internship\\21\\21_IVT.csv...\n"
     ]
    },
    {
     "name": "stderr",
     "output_type": "stream",
     "text": [
      "C:\\Users\\sanika patil\\AppData\\Local\\Temp\\ipykernel_11828\\1292828810.py:32: DtypeWarning: Columns (2) have mixed types. Specify dtype option on import or set low_memory=False.\n",
      "  df = pd.read_csv(file_path)\n"
     ]
    },
    {
     "name": "stdout",
     "output_type": "stream",
     "text": [
      "✅ Saved 17719 rows to IITB_Subset\\21\\21_IVT.csv\n",
      "Processing C:/Users/sanika patil/IITB Internship\\21\\21_NSTLX.csv...\n",
      "✅ Saved 0 rows to IITB_Subset\\21\\21_NSTLX.csv\n",
      "Processing C:/Users/sanika patil/IITB Internship\\21\\21_PSY.csv...\n",
      "✅ Saved 4 rows to IITB_Subset\\21\\21_PSY.csv\n",
      "Processing C:/Users/sanika patil/IITB Internship\\21\\21_TIVA.csv...\n",
      "✅ Saved 1495 rows to IITB_Subset\\21\\21_TIVA.csv\n",
      "Processing C:/Users/sanika patil/IITB Internship\\22\\22_BlankScreenData.csv...\n",
      "✅ Saved 540 rows to IITB_Subset\\22\\22_BlankScreenData.csv\n",
      "Processing C:/Users/sanika patil/IITB Internship\\22\\22_EEG.csv...\n"
     ]
    },
    {
     "name": "stderr",
     "output_type": "stream",
     "text": [
      "C:\\Users\\sanika patil\\AppData\\Local\\Temp\\ipykernel_11828\\1292828810.py:32: DtypeWarning: Columns (2) have mixed types. Specify dtype option on import or set low_memory=False.\n",
      "  df = pd.read_csv(file_path)\n"
     ]
    },
    {
     "name": "stdout",
     "output_type": "stream",
     "text": [
      "✅ Saved 32330 rows to IITB_Subset\\22\\22_EEG.csv\n",
      "Processing C:/Users/sanika patil/IITB Internship\\22\\22_externalEvents.csv...\n",
      "✅ Saved 1318 rows to IITB_Subset\\22\\22_externalEvents.csv\n",
      "Processing C:/Users/sanika patil/IITB Internship\\22\\22_EYE.csv...\n"
     ]
    },
    {
     "name": "stderr",
     "output_type": "stream",
     "text": [
      "C:\\Users\\sanika patil\\AppData\\Local\\Temp\\ipykernel_11828\\1292828810.py:32: DtypeWarning: Columns (2) have mixed types. Specify dtype option on import or set low_memory=False.\n",
      "  df = pd.read_csv(file_path)\n"
     ]
    },
    {
     "name": "stdout",
     "output_type": "stream",
     "text": [
      "✅ Saved 13518 rows to IITB_Subset\\22\\22_EYE.csv\n",
      "Processing C:/Users/sanika patil/IITB Internship\\22\\22_GSR.csv...\n",
      "✅ Saved 14418 rows to IITB_Subset\\22\\22_GSR.csv\n",
      "Processing C:/Users/sanika patil/IITB Internship\\22\\22_IVT.csv...\n"
     ]
    },
    {
     "name": "stderr",
     "output_type": "stream",
     "text": [
      "C:\\Users\\sanika patil\\AppData\\Local\\Temp\\ipykernel_11828\\1292828810.py:32: DtypeWarning: Columns (2) have mixed types. Specify dtype option on import or set low_memory=False.\n",
      "  df = pd.read_csv(file_path)\n"
     ]
    },
    {
     "name": "stdout",
     "output_type": "stream",
     "text": [
      "✅ Saved 13518 rows to IITB_Subset\\22\\22_IVT.csv\n",
      "Processing C:/Users/sanika patil/IITB Internship\\22\\22_NSTLX.csv...\n",
      "✅ Saved 0 rows to IITB_Subset\\22\\22_NSTLX.csv\n",
      "Processing C:/Users/sanika patil/IITB Internship\\22\\22_PSY.csv...\n",
      "✅ Saved 3 rows to IITB_Subset\\22\\22_PSY.csv\n",
      "Processing C:/Users/sanika patil/IITB Internship\\22\\22_TIVA.csv...\n",
      "✅ Saved 1141 rows to IITB_Subset\\22\\22_TIVA.csv\n",
      "Processing C:/Users/sanika patil/IITB Internship\\23\\23_BlankScreenData.csv...\n",
      "✅ Saved 540 rows to IITB_Subset\\23\\23_BlankScreenData.csv\n",
      "Processing C:/Users/sanika patil/IITB Internship\\23\\23_EEG.csv...\n"
     ]
    },
    {
     "name": "stderr",
     "output_type": "stream",
     "text": [
      "C:\\Users\\sanika patil\\AppData\\Local\\Temp\\ipykernel_11828\\1292828810.py:32: DtypeWarning: Columns (2) have mixed types. Specify dtype option on import or set low_memory=False.\n",
      "  df = pd.read_csv(file_path)\n"
     ]
    },
    {
     "name": "stdout",
     "output_type": "stream",
     "text": [
      "✅ Saved 39506 rows to IITB_Subset\\23\\23_EEG.csv\n",
      "Processing C:/Users/sanika patil/IITB Internship\\23\\23_externalEvents.csv...\n",
      "✅ Saved 1548 rows to IITB_Subset\\23\\23_externalEvents.csv\n",
      "Processing C:/Users/sanika patil/IITB Internship\\23\\23_EYE.csv...\n"
     ]
    },
    {
     "name": "stderr",
     "output_type": "stream",
     "text": [
      "C:\\Users\\sanika patil\\AppData\\Local\\Temp\\ipykernel_11828\\1292828810.py:32: DtypeWarning: Columns (2) have mixed types. Specify dtype option on import or set low_memory=False.\n",
      "  df = pd.read_csv(file_path)\n"
     ]
    },
    {
     "name": "stdout",
     "output_type": "stream",
     "text": [
      "✅ Saved 17141 rows to IITB_Subset\\23\\23_EYE.csv\n",
      "Processing C:/Users/sanika patil/IITB Internship\\23\\23_GSR.csv...\n",
      "✅ Saved 18276 rows to IITB_Subset\\23\\23_GSR.csv\n",
      "Processing C:/Users/sanika patil/IITB Internship\\23\\23_IVT.csv...\n"
     ]
    },
    {
     "name": "stderr",
     "output_type": "stream",
     "text": [
      "C:\\Users\\sanika patil\\AppData\\Local\\Temp\\ipykernel_11828\\1292828810.py:32: DtypeWarning: Columns (2) have mixed types. Specify dtype option on import or set low_memory=False.\n",
      "  df = pd.read_csv(file_path)\n"
     ]
    },
    {
     "name": "stdout",
     "output_type": "stream",
     "text": [
      "✅ Saved 17141 rows to IITB_Subset\\23\\23_IVT.csv\n",
      "Processing C:/Users/sanika patil/IITB Internship\\23\\23_NSTLX.csv...\n",
      "✅ Saved 0 rows to IITB_Subset\\23\\23_NSTLX.csv\n",
      "Processing C:/Users/sanika patil/IITB Internship\\23\\23_PSY.csv...\n",
      "✅ Saved 3 rows to IITB_Subset\\23\\23_PSY.csv\n",
      "Processing C:/Users/sanika patil/IITB Internship\\23\\23_TIVA.csv...\n",
      "✅ Saved 1446 rows to IITB_Subset\\23\\23_TIVA.csv\n",
      "Processing C:/Users/sanika patil/IITB Internship\\24\\24_BlankScreenData.csv...\n",
      "✅ Saved 540 rows to IITB_Subset\\24\\24_BlankScreenData.csv\n",
      "Processing C:/Users/sanika patil/IITB Internship\\24\\24_EEG.csv...\n"
     ]
    },
    {
     "name": "stderr",
     "output_type": "stream",
     "text": [
      "C:\\Users\\sanika patil\\AppData\\Local\\Temp\\ipykernel_11828\\1292828810.py:32: DtypeWarning: Columns (2) have mixed types. Specify dtype option on import or set low_memory=False.\n",
      "  df = pd.read_csv(file_path)\n"
     ]
    },
    {
     "name": "stdout",
     "output_type": "stream",
     "text": [
      "✅ Saved 35812 rows to IITB_Subset\\24\\24_EEG.csv\n",
      "Processing C:/Users/sanika patil/IITB Internship\\24\\24_externalEvents.csv...\n",
      "✅ Saved 522 rows to IITB_Subset\\24\\24_externalEvents.csv\n",
      "Processing C:/Users/sanika patil/IITB Internship\\24\\24_EYE.csv...\n",
      "✅ Saved 14160 rows to IITB_Subset\\24\\24_EYE.csv\n",
      "Processing C:/Users/sanika patil/IITB Internship\\24\\24_GSR.csv...\n",
      "✅ Saved 15102 rows to IITB_Subset\\24\\24_GSR.csv\n",
      "Processing C:/Users/sanika patil/IITB Internship\\24\\24_IVT.csv...\n",
      "✅ Saved 14160 rows to IITB_Subset\\24\\24_IVT.csv\n",
      "Processing C:/Users/sanika patil/IITB Internship\\24\\24_NSTLX.csv...\n",
      "✅ Saved 0 rows to IITB_Subset\\24\\24_NSTLX.csv\n",
      "Processing C:/Users/sanika patil/IITB Internship\\24\\24_PSY.csv...\n",
      "✅ Saved 4 rows to IITB_Subset\\24\\24_PSY.csv\n",
      "Processing C:/Users/sanika patil/IITB Internship\\24\\24_TIVA.csv...\n",
      "✅ Saved 1195 rows to IITB_Subset\\24\\24_TIVA.csv\n",
      "Processing C:/Users/sanika patil/IITB Internship\\25\\25_BlankScreenData.csv...\n",
      "✅ Saved 540 rows to IITB_Subset\\25\\25_BlankScreenData.csv\n",
      "Processing C:/Users/sanika patil/IITB Internship\\25\\25_EEG.csv...\n"
     ]
    },
    {
     "name": "stderr",
     "output_type": "stream",
     "text": [
      "C:\\Users\\sanika patil\\AppData\\Local\\Temp\\ipykernel_11828\\1292828810.py:32: DtypeWarning: Columns (2) have mixed types. Specify dtype option on import or set low_memory=False.\n",
      "  df = pd.read_csv(file_path)\n"
     ]
    },
    {
     "name": "stdout",
     "output_type": "stream",
     "text": [
      "✅ Saved 33411 rows to IITB_Subset\\25\\25_EEG.csv\n",
      "Processing C:/Users/sanika patil/IITB Internship\\25\\25_externalEvents.csv...\n",
      "✅ Saved 632 rows to IITB_Subset\\25\\25_externalEvents.csv\n",
      "Processing C:/Users/sanika patil/IITB Internship\\25\\25_EYE.csv...\n"
     ]
    },
    {
     "name": "stderr",
     "output_type": "stream",
     "text": [
      "C:\\Users\\sanika patil\\AppData\\Local\\Temp\\ipykernel_11828\\1292828810.py:32: DtypeWarning: Columns (2) have mixed types. Specify dtype option on import or set low_memory=False.\n",
      "  df = pd.read_csv(file_path)\n"
     ]
    },
    {
     "name": "stdout",
     "output_type": "stream",
     "text": [
      "✅ Saved 13602 rows to IITB_Subset\\25\\25_EYE.csv\n",
      "Processing C:/Users/sanika patil/IITB Internship\\25\\25_GSR.csv...\n"
     ]
    },
    {
     "name": "stderr",
     "output_type": "stream",
     "text": [
      "C:\\Users\\sanika patil\\AppData\\Local\\Temp\\ipykernel_11828\\1292828810.py:32: DtypeWarning: Columns (2) have mixed types. Specify dtype option on import or set low_memory=False.\n",
      "  df = pd.read_csv(file_path)\n"
     ]
    },
    {
     "name": "stdout",
     "output_type": "stream",
     "text": [
      "✅ Saved 14507 rows to IITB_Subset\\25\\25_GSR.csv\n",
      "Processing C:/Users/sanika patil/IITB Internship\\25\\25_IVT.csv...\n"
     ]
    },
    {
     "name": "stderr",
     "output_type": "stream",
     "text": [
      "C:\\Users\\sanika patil\\AppData\\Local\\Temp\\ipykernel_11828\\1292828810.py:32: DtypeWarning: Columns (2) have mixed types. Specify dtype option on import or set low_memory=False.\n",
      "  df = pd.read_csv(file_path)\n"
     ]
    },
    {
     "name": "stdout",
     "output_type": "stream",
     "text": [
      "✅ Saved 13602 rows to IITB_Subset\\25\\25_IVT.csv\n",
      "Processing C:/Users/sanika patil/IITB Internship\\25\\25_NSTLX.csv...\n",
      "✅ Saved 0 rows to IITB_Subset\\25\\25_NSTLX.csv\n",
      "Processing C:/Users/sanika patil/IITB Internship\\25\\25_PSY.csv...\n",
      "✅ Saved 3 rows to IITB_Subset\\25\\25_PSY.csv\n",
      "Processing C:/Users/sanika patil/IITB Internship\\25\\25_TIVA.csv...\n",
      "✅ Saved 1148 rows to IITB_Subset\\25\\25_TIVA.csv\n",
      "Processing C:/Users/sanika patil/IITB Internship\\26\\26_BlankScreenData.csv...\n",
      "✅ Saved 540 rows to IITB_Subset\\26\\26_BlankScreenData.csv\n",
      "Processing C:/Users/sanika patil/IITB Internship\\26\\26_EEG.csv...\n"
     ]
    },
    {
     "name": "stderr",
     "output_type": "stream",
     "text": [
      "C:\\Users\\sanika patil\\AppData\\Local\\Temp\\ipykernel_11828\\1292828810.py:32: DtypeWarning: Columns (2) have mixed types. Specify dtype option on import or set low_memory=False.\n",
      "  df = pd.read_csv(file_path)\n"
     ]
    },
    {
     "name": "stdout",
     "output_type": "stream",
     "text": [
      "✅ Saved 31096 rows to IITB_Subset\\26\\26_EEG.csv\n",
      "Processing C:/Users/sanika patil/IITB Internship\\26\\26_externalEvents.csv...\n",
      "✅ Saved 776 rows to IITB_Subset\\26\\26_externalEvents.csv\n",
      "Processing C:/Users/sanika patil/IITB Internship\\26\\26_EYE.csv...\n"
     ]
    },
    {
     "name": "stderr",
     "output_type": "stream",
     "text": [
      "C:\\Users\\sanika patil\\AppData\\Local\\Temp\\ipykernel_11828\\1292828810.py:32: DtypeWarning: Columns (2) have mixed types. Specify dtype option on import or set low_memory=False.\n",
      "  df = pd.read_csv(file_path)\n"
     ]
    },
    {
     "name": "stdout",
     "output_type": "stream",
     "text": [
      "✅ Saved 13556 rows to IITB_Subset\\26\\26_EYE.csv\n",
      "Processing C:/Users/sanika patil/IITB Internship\\26\\26_GSR.csv...\n"
     ]
    },
    {
     "name": "stderr",
     "output_type": "stream",
     "text": [
      "C:\\Users\\sanika patil\\AppData\\Local\\Temp\\ipykernel_11828\\1292828810.py:32: DtypeWarning: Columns (2) have mixed types. Specify dtype option on import or set low_memory=False.\n",
      "  df = pd.read_csv(file_path)\n"
     ]
    },
    {
     "name": "stdout",
     "output_type": "stream",
     "text": [
      "✅ Saved 14457 rows to IITB_Subset\\26\\26_GSR.csv\n",
      "Processing C:/Users/sanika patil/IITB Internship\\26\\26_IVT.csv...\n"
     ]
    },
    {
     "name": "stderr",
     "output_type": "stream",
     "text": [
      "C:\\Users\\sanika patil\\AppData\\Local\\Temp\\ipykernel_11828\\1292828810.py:32: DtypeWarning: Columns (2) have mixed types. Specify dtype option on import or set low_memory=False.\n",
      "  df = pd.read_csv(file_path)\n"
     ]
    },
    {
     "name": "stdout",
     "output_type": "stream",
     "text": [
      "✅ Saved 13556 rows to IITB_Subset\\26\\26_IVT.csv\n",
      "Processing C:/Users/sanika patil/IITB Internship\\26\\26_NSTLX.csv...\n",
      "✅ Saved 0 rows to IITB_Subset\\26\\26_NSTLX.csv\n",
      "Processing C:/Users/sanika patil/IITB Internship\\26\\26_PSY.csv...\n",
      "✅ Saved 3 rows to IITB_Subset\\26\\26_PSY.csv\n",
      "Processing C:/Users/sanika patil/IITB Internship\\26\\26_TIVA.csv...\n",
      "✅ Saved 1144 rows to IITB_Subset\\26\\26_TIVA.csv\n",
      "Processing C:/Users/sanika patil/IITB Internship\\27\\27_BlankScreenData.csv...\n",
      "✅ Saved 540 rows to IITB_Subset\\27\\27_BlankScreenData.csv\n",
      "Processing C:/Users/sanika patil/IITB Internship\\27\\27_EEG.csv...\n"
     ]
    },
    {
     "name": "stderr",
     "output_type": "stream",
     "text": [
      "C:\\Users\\sanika patil\\AppData\\Local\\Temp\\ipykernel_11828\\1292828810.py:32: DtypeWarning: Columns (2) have mixed types. Specify dtype option on import or set low_memory=False.\n",
      "  df = pd.read_csv(file_path)\n"
     ]
    },
    {
     "name": "stdout",
     "output_type": "stream",
     "text": [
      "✅ Saved 31822 rows to IITB_Subset\\27\\27_EEG.csv\n",
      "Processing C:/Users/sanika patil/IITB Internship\\27\\27_externalEvents.csv...\n",
      "✅ Saved 898 rows to IITB_Subset\\27\\27_externalEvents.csv\n",
      "Processing C:/Users/sanika patil/IITB Internship\\27\\27_EYE.csv...\n"
     ]
    },
    {
     "name": "stderr",
     "output_type": "stream",
     "text": [
      "C:\\Users\\sanika patil\\AppData\\Local\\Temp\\ipykernel_11828\\1292828810.py:32: DtypeWarning: Columns (2) have mixed types. Specify dtype option on import or set low_memory=False.\n",
      "  df = pd.read_csv(file_path)\n"
     ]
    },
    {
     "name": "stdout",
     "output_type": "stream",
     "text": [
      "✅ Saved 13754 rows to IITB_Subset\\27\\27_EYE.csv\n",
      "Processing C:/Users/sanika patil/IITB Internship\\27\\27_GSR.csv...\n",
      "✅ Saved 14667 rows to IITB_Subset\\27\\27_GSR.csv\n",
      "Processing C:/Users/sanika patil/IITB Internship\\27\\27_IVT.csv...\n"
     ]
    },
    {
     "name": "stderr",
     "output_type": "stream",
     "text": [
      "C:\\Users\\sanika patil\\AppData\\Local\\Temp\\ipykernel_11828\\1292828810.py:32: DtypeWarning: Columns (2) have mixed types. Specify dtype option on import or set low_memory=False.\n",
      "  df = pd.read_csv(file_path)\n"
     ]
    },
    {
     "name": "stdout",
     "output_type": "stream",
     "text": [
      "✅ Saved 13754 rows to IITB_Subset\\27\\27_IVT.csv\n",
      "Processing C:/Users/sanika patil/IITB Internship\\27\\27_NSTLX.csv...\n",
      "✅ Saved 0 rows to IITB_Subset\\27\\27_NSTLX.csv\n",
      "Processing C:/Users/sanika patil/IITB Internship\\27\\27_PSY.csv...\n",
      "✅ Saved 4 rows to IITB_Subset\\27\\27_PSY.csv\n",
      "Processing C:/Users/sanika patil/IITB Internship\\27\\27_TIVA.csv...\n",
      "✅ Saved 1160 rows to IITB_Subset\\27\\27_TIVA.csv\n",
      "Processing C:/Users/sanika patil/IITB Internship\\28\\28_BlankScreenData.csv...\n",
      "✅ Saved 540 rows to IITB_Subset\\28\\28_BlankScreenData.csv\n",
      "Processing C:/Users/sanika patil/IITB Internship\\28\\28_EEG.csv...\n"
     ]
    },
    {
     "name": "stderr",
     "output_type": "stream",
     "text": [
      "C:\\Users\\sanika patil\\AppData\\Local\\Temp\\ipykernel_11828\\1292828810.py:32: DtypeWarning: Columns (2) have mixed types. Specify dtype option on import or set low_memory=False.\n",
      "  df = pd.read_csv(file_path)\n"
     ]
    },
    {
     "name": "stdout",
     "output_type": "stream",
     "text": [
      "✅ Saved 46345 rows to IITB_Subset\\28\\28_EEG.csv\n",
      "Processing C:/Users/sanika patil/IITB Internship\\28\\28_externalEvents.csv...\n",
      "✅ Saved 809 rows to IITB_Subset\\28\\28_externalEvents.csv\n",
      "Processing C:/Users/sanika patil/IITB Internship\\28\\28_EYE.csv...\n",
      "✅ Saved 16149 rows to IITB_Subset\\28\\28_EYE.csv\n",
      "Processing C:/Users/sanika patil/IITB Internship\\28\\28_GSR.csv...\n",
      "✅ Saved 17224 rows to IITB_Subset\\28\\28_GSR.csv\n",
      "Processing C:/Users/sanika patil/IITB Internship\\28\\28_IVT.csv...\n",
      "✅ Saved 16149 rows to IITB_Subset\\28\\28_IVT.csv\n",
      "Processing C:/Users/sanika patil/IITB Internship\\28\\28_NSTLX.csv...\n",
      "✅ Saved 0 rows to IITB_Subset\\28\\28_NSTLX.csv\n",
      "Processing C:/Users/sanika patil/IITB Internship\\28\\28_PSY.csv...\n",
      "✅ Saved 4 rows to IITB_Subset\\28\\28_PSY.csv\n",
      "Processing C:/Users/sanika patil/IITB Internship\\28\\28_TIVA.csv...\n",
      "✅ Saved 1363 rows to IITB_Subset\\28\\28_TIVA.csv\n",
      "Processing C:/Users/sanika patil/IITB Internship\\29\\29_BlankScreenData.csv...\n",
      "✅ Saved 540 rows to IITB_Subset\\29\\29_BlankScreenData.csv\n",
      "Processing C:/Users/sanika patil/IITB Internship\\29\\29_EEG.csv...\n"
     ]
    },
    {
     "name": "stderr",
     "output_type": "stream",
     "text": [
      "C:\\Users\\sanika patil\\AppData\\Local\\Temp\\ipykernel_11828\\1292828810.py:32: DtypeWarning: Columns (2) have mixed types. Specify dtype option on import or set low_memory=False.\n",
      "  df = pd.read_csv(file_path)\n"
     ]
    },
    {
     "name": "stdout",
     "output_type": "stream",
     "text": [
      "✅ Saved 35228 rows to IITB_Subset\\29\\29_EEG.csv\n",
      "Processing C:/Users/sanika patil/IITB Internship\\29\\29_externalEvents.csv...\n",
      "✅ Saved 969 rows to IITB_Subset\\29\\29_externalEvents.csv\n",
      "Processing C:/Users/sanika patil/IITB Internship\\29\\29_EYE.csv...\n"
     ]
    },
    {
     "name": "stderr",
     "output_type": "stream",
     "text": [
      "C:\\Users\\sanika patil\\AppData\\Local\\Temp\\ipykernel_11828\\1292828810.py:32: DtypeWarning: Columns (2) have mixed types. Specify dtype option on import or set low_memory=False.\n",
      "  df = pd.read_csv(file_path)\n"
     ]
    },
    {
     "name": "stdout",
     "output_type": "stream",
     "text": [
      "✅ Saved 15670 rows to IITB_Subset\\29\\29_EYE.csv\n",
      "Processing C:/Users/sanika patil/IITB Internship\\29\\29_GSR.csv...\n",
      "✅ Saved 16712 rows to IITB_Subset\\29\\29_GSR.csv\n",
      "Processing C:/Users/sanika patil/IITB Internship\\29\\29_IVT.csv...\n"
     ]
    },
    {
     "name": "stderr",
     "output_type": "stream",
     "text": [
      "C:\\Users\\sanika patil\\AppData\\Local\\Temp\\ipykernel_11828\\1292828810.py:32: DtypeWarning: Columns (2) have mixed types. Specify dtype option on import or set low_memory=False.\n",
      "  df = pd.read_csv(file_path)\n"
     ]
    },
    {
     "name": "stdout",
     "output_type": "stream",
     "text": [
      "✅ Saved 15670 rows to IITB_Subset\\29\\29_IVT.csv\n",
      "Processing C:/Users/sanika patil/IITB Internship\\29\\29_NSTLX.csv...\n",
      "✅ Saved 0 rows to IITB_Subset\\29\\29_NSTLX.csv\n",
      "Processing C:/Users/sanika patil/IITB Internship\\29\\29_PSY.csv...\n",
      "✅ Saved 4 rows to IITB_Subset\\29\\29_PSY.csv\n",
      "Processing C:/Users/sanika patil/IITB Internship\\29\\29_TIVA.csv...\n",
      "✅ Saved 1322 rows to IITB_Subset\\29\\29_TIVA.csv\n",
      "Processing C:/Users/sanika patil/IITB Internship\\30\\30_BlankScreenData.csv...\n",
      "✅ Saved 540 rows to IITB_Subset\\30\\30_BlankScreenData.csv\n",
      "Processing C:/Users/sanika patil/IITB Internship\\30\\30_EEG.csv...\n"
     ]
    },
    {
     "name": "stderr",
     "output_type": "stream",
     "text": [
      "C:\\Users\\sanika patil\\AppData\\Local\\Temp\\ipykernel_11828\\1292828810.py:32: DtypeWarning: Columns (2) have mixed types. Specify dtype option on import or set low_memory=False.\n",
      "  df = pd.read_csv(file_path)\n"
     ]
    },
    {
     "name": "stdout",
     "output_type": "stream",
     "text": [
      "✅ Saved 28710 rows to IITB_Subset\\30\\30_EEG.csv\n",
      "Processing C:/Users/sanika patil/IITB Internship\\30\\30_externalEvents.csv...\n",
      "✅ Saved 658 rows to IITB_Subset\\30\\30_externalEvents.csv\n",
      "Processing C:/Users/sanika patil/IITB Internship\\30\\30_EYE.csv...\n",
      "✅ Saved 11522 rows to IITB_Subset\\30\\30_EYE.csv\n",
      "Processing C:/Users/sanika patil/IITB Internship\\30\\30_GSR.csv...\n",
      "✅ Saved 12288 rows to IITB_Subset\\30\\30_GSR.csv\n",
      "Processing C:/Users/sanika patil/IITB Internship\\30\\30_IVT.csv...\n",
      "✅ Saved 11522 rows to IITB_Subset\\30\\30_IVT.csv\n",
      "Processing C:/Users/sanika patil/IITB Internship\\30\\30_NSTLX.csv...\n",
      "✅ Saved 0 rows to IITB_Subset\\30\\30_NSTLX.csv\n",
      "Processing C:/Users/sanika patil/IITB Internship\\30\\30_PSY.csv...\n",
      "✅ Saved 4 rows to IITB_Subset\\30\\30_PSY.csv\n",
      "Processing C:/Users/sanika patil/IITB Internship\\30\\30_TIVA.csv...\n",
      "✅ Saved 972 rows to IITB_Subset\\30\\30_TIVA.csv\n",
      "Processing C:/Users/sanika patil/IITB Internship\\31\\31_BlankScreenData.csv...\n",
      "✅ Saved 540 rows to IITB_Subset\\31\\31_BlankScreenData.csv\n",
      "Processing C:/Users/sanika patil/IITB Internship\\31\\31_EEG.csv...\n"
     ]
    },
    {
     "name": "stderr",
     "output_type": "stream",
     "text": [
      "C:\\Users\\sanika patil\\AppData\\Local\\Temp\\ipykernel_11828\\1292828810.py:32: DtypeWarning: Columns (2) have mixed types. Specify dtype option on import or set low_memory=False.\n",
      "  df = pd.read_csv(file_path)\n"
     ]
    },
    {
     "name": "stdout",
     "output_type": "stream",
     "text": [
      "✅ Saved 9824 rows to IITB_Subset\\31\\31_EEG.csv\n",
      "Processing C:/Users/sanika patil/IITB Internship\\31\\31_externalEvents.csv...\n",
      "✅ Saved 917 rows to IITB_Subset\\31\\31_externalEvents.csv\n",
      "Processing C:/Users/sanika patil/IITB Internship\\31\\31_EYE.csv...\n",
      "✅ Saved 16377 rows to IITB_Subset\\31\\31_EYE.csv\n",
      "Processing C:/Users/sanika patil/IITB Internship\\31\\31_GSR.csv...\n",
      "✅ Saved 17466 rows to IITB_Subset\\31\\31_GSR.csv\n",
      "Processing C:/Users/sanika patil/IITB Internship\\31\\31_IVT.csv...\n",
      "✅ Saved 16377 rows to IITB_Subset\\31\\31_IVT.csv\n",
      "Processing C:/Users/sanika patil/IITB Internship\\31\\31_NSTLX.csv...\n",
      "✅ Saved 0 rows to IITB_Subset\\31\\31_NSTLX.csv\n",
      "Processing C:/Users/sanika patil/IITB Internship\\31\\31_PSY.csv...\n",
      "✅ Saved 3 rows to IITB_Subset\\31\\31_PSY.csv\n",
      "Processing C:/Users/sanika patil/IITB Internship\\31\\31_TIVA.csv...\n",
      "✅ Saved 1382 rows to IITB_Subset\\31\\31_TIVA.csv\n",
      "Processing C:/Users/sanika patil/IITB Internship\\32\\32_BlankScreenData.csv...\n",
      "✅ Saved 540 rows to IITB_Subset\\32\\32_BlankScreenData.csv\n",
      "Processing C:/Users/sanika patil/IITB Internship\\32\\32_EEG.csv...\n"
     ]
    },
    {
     "name": "stderr",
     "output_type": "stream",
     "text": [
      "C:\\Users\\sanika patil\\AppData\\Local\\Temp\\ipykernel_11828\\1292828810.py:32: DtypeWarning: Columns (2) have mixed types. Specify dtype option on import or set low_memory=False.\n",
      "  df = pd.read_csv(file_path)\n"
     ]
    },
    {
     "name": "stdout",
     "output_type": "stream",
     "text": [
      "✅ Saved 34994 rows to IITB_Subset\\32\\32_EEG.csv\n",
      "Processing C:/Users/sanika patil/IITB Internship\\32\\32_externalEvents.csv...\n",
      "✅ Saved 1801 rows to IITB_Subset\\32\\32_externalEvents.csv\n",
      "Processing C:/Users/sanika patil/IITB Internship\\32\\32_EYE.csv...\n"
     ]
    },
    {
     "name": "stderr",
     "output_type": "stream",
     "text": [
      "C:\\Users\\sanika patil\\AppData\\Local\\Temp\\ipykernel_11828\\1292828810.py:32: DtypeWarning: Columns (2) have mixed types. Specify dtype option on import or set low_memory=False.\n",
      "  df = pd.read_csv(file_path)\n"
     ]
    },
    {
     "name": "stdout",
     "output_type": "stream",
     "text": [
      "✅ Saved 15154 rows to IITB_Subset\\32\\32_EYE.csv\n",
      "Processing C:/Users/sanika patil/IITB Internship\\32\\32_GSR.csv...\n",
      "✅ Saved 16161 rows to IITB_Subset\\32\\32_GSR.csv\n",
      "Processing C:/Users/sanika patil/IITB Internship\\32\\32_IVT.csv...\n"
     ]
    },
    {
     "name": "stderr",
     "output_type": "stream",
     "text": [
      "C:\\Users\\sanika patil\\AppData\\Local\\Temp\\ipykernel_11828\\1292828810.py:32: DtypeWarning: Columns (2) have mixed types. Specify dtype option on import or set low_memory=False.\n",
      "  df = pd.read_csv(file_path)\n"
     ]
    },
    {
     "name": "stdout",
     "output_type": "stream",
     "text": [
      "✅ Saved 15154 rows to IITB_Subset\\32\\32_IVT.csv\n",
      "Processing C:/Users/sanika patil/IITB Internship\\32\\32_NSTLX.csv...\n",
      "✅ Saved 0 rows to IITB_Subset\\32\\32_NSTLX.csv\n",
      "Processing C:/Users/sanika patil/IITB Internship\\32\\32_PSY.csv...\n",
      "✅ Saved 3 rows to IITB_Subset\\32\\32_PSY.csv\n",
      "Processing C:/Users/sanika patil/IITB Internship\\32\\32_TIVA.csv...\n",
      "✅ Saved 1278 rows to IITB_Subset\\32\\32_TIVA.csv\n",
      "Processing C:/Users/sanika patil/IITB Internship\\33\\33_BlankScreenData.csv...\n",
      "✅ Saved 540 rows to IITB_Subset\\33\\33_BlankScreenData.csv\n",
      "Processing C:/Users/sanika patil/IITB Internship\\33\\33_EEG.csv...\n"
     ]
    },
    {
     "name": "stderr",
     "output_type": "stream",
     "text": [
      "C:\\Users\\sanika patil\\AppData\\Local\\Temp\\ipykernel_11828\\1292828810.py:32: DtypeWarning: Columns (2) have mixed types. Specify dtype option on import or set low_memory=False.\n",
      "  df = pd.read_csv(file_path)\n"
     ]
    },
    {
     "name": "stdout",
     "output_type": "stream",
     "text": [
      "✅ Saved 34438 rows to IITB_Subset\\33\\33_EEG.csv\n",
      "Processing C:/Users/sanika patil/IITB Internship\\33\\33_externalEvents.csv...\n",
      "✅ Saved 1362 rows to IITB_Subset\\33\\33_externalEvents.csv\n",
      "Processing C:/Users/sanika patil/IITB Internship\\33\\33_EYE.csv...\n",
      "✅ Saved 13916 rows to IITB_Subset\\33\\33_EYE.csv\n",
      "Processing C:/Users/sanika patil/IITB Internship\\33\\33_GSR.csv...\n",
      "✅ Saved 14842 rows to IITB_Subset\\33\\33_GSR.csv\n",
      "Processing C:/Users/sanika patil/IITB Internship\\33\\33_IVT.csv...\n",
      "✅ Saved 13916 rows to IITB_Subset\\33\\33_IVT.csv\n",
      "Processing C:/Users/sanika patil/IITB Internship\\33\\33_NSTLX.csv...\n",
      "✅ Saved 0 rows to IITB_Subset\\33\\33_NSTLX.csv\n",
      "Processing C:/Users/sanika patil/IITB Internship\\33\\33_PSY.csv...\n",
      "✅ Saved 3 rows to IITB_Subset\\33\\33_PSY.csv\n",
      "Processing C:/Users/sanika patil/IITB Internship\\33\\33_TIVA.csv...\n",
      "✅ Saved 1174 rows to IITB_Subset\\33\\33_TIVA.csv\n",
      "Processing C:/Users/sanika patil/IITB Internship\\34\\34_BlankScreenData.csv...\n",
      "✅ Saved 540 rows to IITB_Subset\\34\\34_BlankScreenData.csv\n",
      "Processing C:/Users/sanika patil/IITB Internship\\34\\34_EEG.csv...\n"
     ]
    },
    {
     "name": "stderr",
     "output_type": "stream",
     "text": [
      "C:\\Users\\sanika patil\\AppData\\Local\\Temp\\ipykernel_11828\\1292828810.py:32: DtypeWarning: Columns (2) have mixed types. Specify dtype option on import or set low_memory=False.\n",
      "  df = pd.read_csv(file_path)\n"
     ]
    },
    {
     "name": "stdout",
     "output_type": "stream",
     "text": [
      "✅ Saved 32248 rows to IITB_Subset\\34\\34_EEG.csv\n",
      "Processing C:/Users/sanika patil/IITB Internship\\34\\34_externalEvents.csv...\n",
      "✅ Saved 894 rows to IITB_Subset\\34\\34_externalEvents.csv\n",
      "Processing C:/Users/sanika patil/IITB Internship\\34\\34_EYE.csv...\n",
      "✅ Saved 13081 rows to IITB_Subset\\34\\34_EYE.csv\n",
      "Processing C:/Users/sanika patil/IITB Internship\\34\\34_GSR.csv...\n",
      "✅ Saved 13952 rows to IITB_Subset\\34\\34_GSR.csv\n",
      "Processing C:/Users/sanika patil/IITB Internship\\34\\34_IVT.csv...\n",
      "✅ Saved 13081 rows to IITB_Subset\\34\\34_IVT.csv\n",
      "Processing C:/Users/sanika patil/IITB Internship\\34\\34_NSTLX.csv...\n",
      "✅ Saved 0 rows to IITB_Subset\\34\\34_NSTLX.csv\n",
      "Processing C:/Users/sanika patil/IITB Internship\\34\\34_PSY.csv...\n",
      "✅ Saved 4 rows to IITB_Subset\\34\\34_PSY.csv\n",
      "Processing C:/Users/sanika patil/IITB Internship\\34\\34_TIVA.csv...\n",
      "✅ Saved 1104 rows to IITB_Subset\\34\\34_TIVA.csv\n",
      "Processing C:/Users/sanika patil/IITB Internship\\35\\35_BlankScreenData.csv...\n",
      "✅ Saved 540 rows to IITB_Subset\\35\\35_BlankScreenData.csv\n",
      "Processing C:/Users/sanika patil/IITB Internship\\35\\35_EEG.csv...\n"
     ]
    },
    {
     "name": "stderr",
     "output_type": "stream",
     "text": [
      "C:\\Users\\sanika patil\\AppData\\Local\\Temp\\ipykernel_11828\\1292828810.py:32: DtypeWarning: Columns (2) have mixed types. Specify dtype option on import or set low_memory=False.\n",
      "  df = pd.read_csv(file_path)\n"
     ]
    },
    {
     "name": "stdout",
     "output_type": "stream",
     "text": [
      "✅ Saved 25830 rows to IITB_Subset\\35\\35_EEG.csv\n",
      "Processing C:/Users/sanika patil/IITB Internship\\35\\35_externalEvents.csv...\n",
      "✅ Saved 654 rows to IITB_Subset\\35\\35_externalEvents.csv\n",
      "Processing C:/Users/sanika patil/IITB Internship\\35\\35_EYE.csv...\n",
      "✅ Saved 11515 rows to IITB_Subset\\35\\35_EYE.csv\n",
      "Processing C:/Users/sanika patil/IITB Internship\\35\\35_GSR.csv...\n",
      "✅ Saved 12279 rows to IITB_Subset\\35\\35_GSR.csv\n",
      "Processing C:/Users/sanika patil/IITB Internship\\35\\35_IVT.csv...\n",
      "✅ Saved 11515 rows to IITB_Subset\\35\\35_IVT.csv\n",
      "Processing C:/Users/sanika patil/IITB Internship\\35\\35_NSTLX.csv...\n",
      "✅ Saved 0 rows to IITB_Subset\\35\\35_NSTLX.csv\n",
      "Processing C:/Users/sanika patil/IITB Internship\\35\\35_PSY.csv...\n",
      "✅ Saved 4 rows to IITB_Subset\\35\\35_PSY.csv\n",
      "Processing C:/Users/sanika patil/IITB Internship\\35\\35_TIVA.csv...\n",
      "✅ Saved 971 rows to IITB_Subset\\35\\35_TIVA.csv\n",
      "Processing C:/Users/sanika patil/IITB Internship\\36\\36_BlankScreenData.csv...\n",
      "✅ Saved 540 rows to IITB_Subset\\36\\36_BlankScreenData.csv\n",
      "Processing C:/Users/sanika patil/IITB Internship\\36\\36_EEG.csv...\n"
     ]
    },
    {
     "name": "stderr",
     "output_type": "stream",
     "text": [
      "C:\\Users\\sanika patil\\AppData\\Local\\Temp\\ipykernel_11828\\1292828810.py:32: DtypeWarning: Columns (2,40) have mixed types. Specify dtype option on import or set low_memory=False.\n",
      "  df = pd.read_csv(file_path)\n"
     ]
    },
    {
     "name": "stdout",
     "output_type": "stream",
     "text": [
      "✅ Saved 37945 rows to IITB_Subset\\36\\36_EEG.csv\n",
      "Processing C:/Users/sanika patil/IITB Internship\\36\\36_externalEvents.csv...\n",
      "✅ Saved 2320 rows to IITB_Subset\\36\\36_externalEvents.csv\n",
      "Processing C:/Users/sanika patil/IITB Internship\\36\\36_EYE.csv...\n",
      "✅ Saved 14751 rows to IITB_Subset\\36\\36_EYE.csv\n",
      "Processing C:/Users/sanika patil/IITB Internship\\36\\36_GSR.csv...\n",
      "✅ Saved 15732 rows to IITB_Subset\\36\\36_GSR.csv\n",
      "Processing C:/Users/sanika patil/IITB Internship\\36\\36_IVT.csv...\n",
      "✅ Saved 14751 rows to IITB_Subset\\36\\36_IVT.csv\n",
      "Processing C:/Users/sanika patil/IITB Internship\\36\\36_NSTLX.csv...\n",
      "✅ Saved 0 rows to IITB_Subset\\36\\36_NSTLX.csv\n",
      "Processing C:/Users/sanika patil/IITB Internship\\36\\36_PSY.csv...\n",
      "✅ Saved 4 rows to IITB_Subset\\36\\36_PSY.csv\n",
      "Processing C:/Users/sanika patil/IITB Internship\\36\\36_TIVA.csv...\n",
      "✅ Saved 1242 rows to IITB_Subset\\36\\36_TIVA.csv\n",
      "Processing C:/Users/sanika patil/IITB Internship\\37\\37_BlankScreenData.csv...\n",
      "✅ Saved 540 rows to IITB_Subset\\37\\37_BlankScreenData.csv\n",
      "Processing C:/Users/sanika patil/IITB Internship\\37\\37_EEG.csv...\n"
     ]
    },
    {
     "name": "stderr",
     "output_type": "stream",
     "text": [
      "C:\\Users\\sanika patil\\AppData\\Local\\Temp\\ipykernel_11828\\1292828810.py:32: DtypeWarning: Columns (2) have mixed types. Specify dtype option on import or set low_memory=False.\n",
      "  df = pd.read_csv(file_path)\n"
     ]
    },
    {
     "name": "stdout",
     "output_type": "stream",
     "text": [
      "✅ Saved 31922 rows to IITB_Subset\\37\\37_EEG.csv\n",
      "Processing C:/Users/sanika patil/IITB Internship\\37\\37_externalEvents.csv...\n",
      "✅ Saved 646 rows to IITB_Subset\\37\\37_externalEvents.csv\n",
      "Processing C:/Users/sanika patil/IITB Internship\\37\\37_EYE.csv...\n"
     ]
    },
    {
     "name": "stderr",
     "output_type": "stream",
     "text": [
      "C:\\Users\\sanika patil\\AppData\\Local\\Temp\\ipykernel_11828\\1292828810.py:32: DtypeWarning: Columns (2) have mixed types. Specify dtype option on import or set low_memory=False.\n",
      "  df = pd.read_csv(file_path)\n"
     ]
    },
    {
     "name": "stdout",
     "output_type": "stream",
     "text": [
      "✅ Saved 13718 rows to IITB_Subset\\37\\37_EYE.csv\n",
      "Processing C:/Users/sanika patil/IITB Internship\\37\\37_GSR.csv...\n",
      "✅ Saved 14625 rows to IITB_Subset\\37\\37_GSR.csv\n",
      "Processing C:/Users/sanika patil/IITB Internship\\37\\37_IVT.csv...\n"
     ]
    },
    {
     "name": "stderr",
     "output_type": "stream",
     "text": [
      "C:\\Users\\sanika patil\\AppData\\Local\\Temp\\ipykernel_11828\\1292828810.py:32: DtypeWarning: Columns (2) have mixed types. Specify dtype option on import or set low_memory=False.\n",
      "  df = pd.read_csv(file_path)\n"
     ]
    },
    {
     "name": "stdout",
     "output_type": "stream",
     "text": [
      "✅ Saved 13718 rows to IITB_Subset\\37\\37_IVT.csv\n",
      "Processing C:/Users/sanika patil/IITB Internship\\37\\37_NSTLX.csv...\n",
      "✅ Saved 0 rows to IITB_Subset\\37\\37_NSTLX.csv\n",
      "Processing C:/Users/sanika patil/IITB Internship\\37\\37_PSY.csv...\n",
      "✅ Saved 4 rows to IITB_Subset\\37\\37_PSY.csv\n",
      "Processing C:/Users/sanika patil/IITB Internship\\37\\37_TIVA.csv...\n",
      "✅ Saved 1157 rows to IITB_Subset\\37\\37_TIVA.csv\n",
      "Processing C:/Users/sanika patil/IITB Internship\\38\\38_BlankScreenData.csv...\n",
      "✅ Saved 540 rows to IITB_Subset\\38\\38_BlankScreenData.csv\n",
      "Processing C:/Users/sanika patil/IITB Internship\\38\\38_EEG.csv...\n"
     ]
    },
    {
     "name": "stderr",
     "output_type": "stream",
     "text": [
      "C:\\Users\\sanika patil\\AppData\\Local\\Temp\\ipykernel_11828\\1292828810.py:32: DtypeWarning: Columns (2) have mixed types. Specify dtype option on import or set low_memory=False.\n",
      "  df = pd.read_csv(file_path)\n"
     ]
    },
    {
     "name": "stdout",
     "output_type": "stream",
     "text": [
      "✅ Saved 30084 rows to IITB_Subset\\38\\38_EEG.csv\n",
      "Processing C:/Users/sanika patil/IITB Internship\\38\\38_externalEvents.csv...\n",
      "✅ Saved 530 rows to IITB_Subset\\38\\38_externalEvents.csv\n",
      "Processing C:/Users/sanika patil/IITB Internship\\38\\38_EYE.csv...\n",
      "✅ Saved 11977 rows to IITB_Subset\\38\\38_EYE.csv\n",
      "Processing C:/Users/sanika patil/IITB Internship\\38\\38_GSR.csv...\n",
      "✅ Saved 12774 rows to IITB_Subset\\38\\38_GSR.csv\n",
      "Processing C:/Users/sanika patil/IITB Internship\\38\\38_IVT.csv...\n",
      "✅ Saved 11977 rows to IITB_Subset\\38\\38_IVT.csv\n",
      "Processing C:/Users/sanika patil/IITB Internship\\38\\38_NSTLX.csv...\n",
      "✅ Saved 0 rows to IITB_Subset\\38\\38_NSTLX.csv\n",
      "Processing C:/Users/sanika patil/IITB Internship\\38\\38_PSY.csv...\n",
      "✅ Saved 3 rows to IITB_Subset\\38\\38_PSY.csv\n",
      "Processing C:/Users/sanika patil/IITB Internship\\38\\38_TIVA.csv...\n",
      "✅ Saved 1011 rows to IITB_Subset\\38\\38_TIVA.csv\n"
     ]
    }
   ],
   "source": [
    "import os\n",
    "import pandas as pd\n",
    "\n",
    "# Path to your main IITB folder\n",
    "main_dir = \"C:/Users/sanika patil/IITB Internship\"  # Adjust path if needed\n",
    "output_dir = \"IITB_Subset\"\n",
    "os.makedirs(output_dir, exist_ok=True)\n",
    "\n",
    "def is_participant_folder(name):\n",
    "    return name.isdigit() and os.path.isdir(os.path.join(main_dir, name))\n",
    "\n",
    "def subset_dataframe(df, frac=0.1):\n",
    "    return df.sample(frac=frac, random_state=42)\n",
    "\n",
    "# List all participant folders (1 to 38)\n",
    "participant_folders = [f for f in os.listdir(main_dir) if is_participant_folder(f)]\n",
    "\n",
    "for folder_name in sorted(participant_folders, key=lambda x: int(x)):\n",
    "    folder_path = os.path.join(main_dir, folder_name)\n",
    "    output_participant_path = os.path.join(output_dir, folder_name)\n",
    "    os.makedirs(output_participant_path, exist_ok=True)\n",
    "\n",
    "    for file_name in os.listdir(folder_path):\n",
    "        if not file_name.endswith(\".csv\"):\n",
    "            continue  # Skip non-CSV files\n",
    "\n",
    "        file_path = os.path.join(folder_path, file_name)\n",
    "        output_file_path = os.path.join(output_participant_path, file_name)\n",
    "\n",
    "        try:\n",
    "            print(f\"Processing {file_path}...\")\n",
    "            df = pd.read_csv(file_path)\n",
    "\n",
    "            if df.empty:\n",
    "                print(f\"⚠️ Skipping empty file: {file_path}\")\n",
    "                continue\n",
    "\n",
    "            subset_df = subset_dataframe(df, frac=0.1)\n",
    "            subset_df.to_csv(output_file_path, index=False)\n",
    "            print(f\"✅ Saved {len(subset_df)} rows to {output_file_path}\")\n",
    "\n",
    "        except Exception as e:\n",
    "            print(f\"❌ Error reading {file_path}: {e}\")\n"
   ]
  },
  {
   "cell_type": "code",
   "execution_count": 9,
   "id": "557cdfe8-b262-453b-9fee-d07cd2eeffa4",
   "metadata": {
    "scrolled": true
   },
   "outputs": [
    {
     "name": "stdout",
     "output_type": "stream",
     "text": [
      "C:\\Users\\sanika patil\\IITB Internship\n"
     ]
    }
   ],
   "source": [
    "import os\n",
    "print(os.getcwd())  # This shows your current working directory\n",
    "\n"
   ]
  },
  {
   "cell_type": "code",
   "execution_count": null,
   "id": "6bbe990b-724e-4f16-b0cb-fe982e2e5fa8",
   "metadata": {},
   "outputs": [],
   "source": []
  },
  {
   "cell_type": "code",
   "execution_count": null,
   "id": "abaa5e9d-f719-4738-9f5c-9197ccd094b1",
   "metadata": {},
   "outputs": [],
   "source": []
  },
  {
   "cell_type": "code",
   "execution_count": null,
   "id": "d59f1460-d689-48cd-912d-0fc394490ce8",
   "metadata": {},
   "outputs": [],
   "source": []
  },
  {
   "cell_type": "code",
   "execution_count": null,
   "id": "64ce2401-7e79-41f6-aa8e-de9d54c7b258",
   "metadata": {},
   "outputs": [],
   "source": []
  }
 ],
 "metadata": {
  "kernelspec": {
   "display_name": "tfkernel",
   "language": "python",
   "name": "tfkernel"
  },
  "language_info": {
   "codemirror_mode": {
    "name": "ipython",
    "version": 3
   },
   "file_extension": ".py",
   "mimetype": "text/x-python",
   "name": "python",
   "nbconvert_exporter": "python",
   "pygments_lexer": "ipython3",
   "version": "3.12.2"
  }
 },
 "nbformat": 4,
 "nbformat_minor": 5
}
